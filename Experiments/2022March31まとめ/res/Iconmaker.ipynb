{
 "cells": [
  {
   "cell_type": "markdown",
   "metadata": {},
   "source": [
    "# Memo\n",
    "- ボタンに使っているアイコンは  [Piskel](https://www.piskelapp.com/)と、[pixlr](https://pixlr.com/editor/)で作成した。\n"
   ]
  },
  {
   "cell_type": "code",
   "execution_count": 1,
   "metadata": {},
   "outputs": [],
   "source": [
    "import os,sys\n",
    "import cairosvg\n",
    "import cv2\n",
    "import numpy as np\n",
    "import matplotlib.pyplot as plt\n",
    "from PIL import Image\n",
    "from IPython import display\n",
    "sys.path.append('..')\n",
    "import rdlib4 as rd\n",
    "\n",
    "# RGBA 画像限定\n",
    "def mkparaimage2(img1,img2):\n",
    "    h1,w1 = img1.shape[:2]\n",
    "    h2,w2 = img2.shape[:2]\n",
    "    paraimg = 255*np.ones((max(h1,h2),w1+w2+10,4),dtype=np.uint8)\n",
    "    paraimg[0:h1,0:w1,:] = img1\n",
    "    paraimg[0:h2,w1+10:,:]=img2\n",
    "    return paraimg\n",
    "\n",
    "def mkparaimage(imglist):\n",
    "    if len(imglist) == 0:\n",
    "        return\n",
    "    if len(imglist) == 1:\n",
    "        return imglist[0]\n",
    "    if len(imglist) == 2:\n",
    "        return mkparaimage2(imglist[0],imglist[1])\n",
    "    return mkparaimage2(imglist[0],mkparaimage(imglist[1:]))\n",
    "\n",
    "# 画像の収集\n",
    "def collectimages(path, imgexts=['jpg','jpge','png']):\n",
    "    imgfiles = rd.collectimagepaths(path, imgexts)\n",
    "    imgfiles.sort()\n",
    "    imgs = [cv2.imread(afile,-1) for afile in imgfiles]\n",
    "    return imgfiles,imgs\n",
    "\n",
    "'''\n",
    "def buildThumbnail(filename):\n",
    "    (base, ext) = os.path.splitext(filename)\n",
    "    if (ext == '.svg'):\n",
    "        png = filename + '.png'\n",
    "        if os.path.exists(filename):\n",
    "            f = open(filename, 'r')\n",
    "            fout = open(png, 'wb')\n",
    "            cairosvg.svg2png(file_obj = f, write_to = fout, dpi = 19)\n",
    "            f.close()\n",
    "            fout.close()\n",
    "        return(png)\n",
    "    return(None)\n",
    "''';"
   ]
  },
  {
   "cell_type": "code",
   "execution_count": 2,
   "metadata": {},
   "outputs": [
    {
     "data": {
      "image/png": "[encoded data removed]",
      "text/plain": [
       "<Figure size 1200x800 with 1 Axes>"
      ]
     },
     "metadata": {
      "needs_background": "light"
     },
     "output_type": "display_data"
    }
   ],
   "source": [
    "# 指定フォルダ内の画像を収集\n",
    "DATAFOLDER = './picdicpics'\n",
    "files,imgs = collectimages(DATAFOLDER)\n",
    "plt.figure(dpi=200)\n",
    "rd.plotimg(mkparaimage([img for img in imgs]))"
   ]
  },
  {
   "cell_type": "code",
   "execution_count": 3,
   "metadata": {},
   "outputs": [
    {
     "data": {
      "text/plain": [
       "['./picdicpics\\\\ic00_zero.png (28, 28, 4)',\n",
       " './picdicpics\\\\ic01_one.png (28, 28, 4)',\n",
       " './picdicpics\\\\ic02_two.png (28, 28, 4)',\n",
       " './picdicpics\\\\ic03_three.png (28, 28, 4)',\n",
       " './picdicpics\\\\ic04_crop.png (32, 32, 4)',\n",
       " './picdicpics\\\\ic05_frame.png (28, 28, 4)',\n",
       " './picdicpics\\\\ic06_90minus.png (28, 28, 4)',\n",
       " './picdicpics\\\\ic07_90plus.png (28, 28, 4)',\n",
       " './picdicpics\\\\ic08_eraser.png (28, 28, 4)',\n",
       " './picdicpics\\\\ic09_cut.png (28, 28, 4)',\n",
       " './picdicpics\\\\ic10_plus.png (28, 28, 4)',\n",
       " './picdicpics\\\\ic11_minus.png (28, 28, 4)',\n",
       " './picdicpics\\\\ic12_pennib.png (63, 63, 4)',\n",
       " './picdicpics\\\\ic13_file.png (32, 32, 4)',\n",
       " './picdicpics\\\\ic20_particle.png (64, 64, 4)',\n",
       " './picdicpics\\\\ic98_radish.png (64, 64, 4)',\n",
       " './picdicpics\\\\ic99_radishB.png (64, 64, 4)']"
      ]
     },
     "execution_count": 3,
     "metadata": {},
     "output_type": "execute_result"
    }
   ],
   "source": [
    "[\"{} {}\".format(img,cv2.imread(img,-1).shape) for img in files]"
   ]
  },
  {
   "cell_type": "code",
   "execution_count": 4,
   "metadata": {},
   "outputs": [],
   "source": [
    "picnames=['zero','one','two','three','crop','frame','rot270','rot90','eraser','cut','plus','minus','pen','file','particle','radish0','radish1']\n",
    "picdiclist = {picname:img for picname,img in zip(picnames,imgs)}"
   ]
  },
  {
   "cell_type": "code",
   "execution_count": 5,
   "metadata": {},
   "outputs": [],
   "source": [
    "rd.storePkl(picdiclist,'picdic.pkl')"
   ]
  },
  {
   "cell_type": "code",
   "execution_count": 6,
   "metadata": {},
   "outputs": [
    {
     "data": {
      "image/png": "[encoded data removed]",
      "text/plain": [
       "<Figure size 432x288 with 1 Axes>"
      ]
     },
     "metadata": {
      "needs_background": "light"
     },
     "output_type": "display_data"
    }
   ],
   "source": [
    "# 確認\n",
    "abc = rd.loadPkl('picdic.pkl')\n",
    "rd.plotimg(rd.mkparaimage([abc[key][:,:,:3] for key in abc]))"
   ]
  },
  {
   "cell_type": "code",
   "execution_count": 7,
   "metadata": {},
   "outputs": [
    {
     "data": {
      "text/plain": [
       "<matplotlib.image.AxesImage at 0x1c47bdee988>"
      ]
     },
     "execution_count": 7,
     "metadata": {},
     "output_type": "execute_result"
    },
    {
     "data": {
      "image/png": "[encoded data removed]",
      "text/plain": [
       "<Figure size 432x288 with 1 Axes>"
      ]
     },
     "metadata": {
      "needs_background": "light"
     },
     "output_type": "display_data"
    }
   ],
   "source": [
    "plt.imshow(abc['cut'][:,:,:3][:,:,::-1])"
   ]
  },
  {
   "cell_type": "code",
   "execution_count": 8,
   "metadata": {},
   "outputs": [
    {
     "data": {
      "text/plain": [
       "<matplotlib.image.AxesImage at 0x1c47be61fc8>"
      ]
     },
     "execution_count": 8,
     "metadata": {},
     "output_type": "execute_result"
    },
    {
     "data": {
      "image/png": "[encoded data removed]",
      "text/plain": [
       "<Figure size 432x288 with 1 Axes>"
      ]
     },
     "metadata": {
      "needs_background": "light"
     },
     "output_type": "display_data"
    }
   ],
   "source": [
    "plt.imshow(abc['two'][:,:,:3][:,:,::-1])"
   ]
  },
  {
   "cell_type": "code",
   "execution_count": 9,
   "metadata": {},
   "outputs": [
    {
     "data": {
      "text/plain": [
       "<matplotlib.image.AxesImage at 0x1c47becd388>"
      ]
     },
     "execution_count": 9,
     "metadata": {},
     "output_type": "execute_result"
    },
    {
     "data": {
      "image/png": "[encoded data removed]",
      "text/plain": [
       "<Figure size 432x288 with 1 Axes>"
      ]
     },
     "metadata": {
      "needs_background": "light"
     },
     "output_type": "display_data"
    }
   ],
   "source": [
    "plt.imshow(abc['rot90'][:,:,:3][:,:,::-1])"
   ]
  },
  {
   "cell_type": "code",
   "execution_count": 10,
   "metadata": {},
   "outputs": [
    {
     "data": {
      "text/plain": [
       "<matplotlib.image.AxesImage at 0x1c47bf33208>"
      ]
     },
     "execution_count": 10,
     "metadata": {},
     "output_type": "execute_result"
    },
    {
     "data": {
      "image/png": "[encoded data removed]",
      "text/plain": [
       "<Figure size 432x288 with 1 Axes>"
      ]
     },
     "metadata": {
      "needs_background": "light"
     },
     "output_type": "display_data"
    }
   ],
   "source": [
    "plt.imshow(abc['pen'][:,:,:3][:,:,::-1])"
   ]
  },
  {
   "cell_type": "code",
   "execution_count": 11,
   "metadata": {},
   "outputs": [
    {
     "data": {
      "text/plain": [
       "255"
      ]
     },
     "execution_count": 11,
     "metadata": {},
     "output_type": "execute_result"
    }
   ],
   "source": [
    "abc['pen'][:,:,3].max()"
   ]
  },
  {
   "cell_type": "code",
   "execution_count": 12,
   "metadata": {},
   "outputs": [],
   "source": [
    "img = abc['pen']\n",
    "img[:,:,3] = 64"
   ]
  },
  {
   "cell_type": "code",
   "execution_count": 14,
   "metadata": {},
   "outputs": [
    {
     "data": {
      "text/plain": [
       "True"
      ]
     },
     "execution_count": 14,
     "metadata": {},
     "output_type": "execute_result"
    }
   ],
   "source": [
    "cv2.imwrite(\"pennib64.png\",img)"
   ]
  },
  {
   "cell_type": "code",
   "execution_count": 15,
   "metadata": {},
   "outputs": [
    {
     "name": "stdout",
     "output_type": "stream",
     "text": [
      " ドライブ C のボリューム ラベルがありません。\n",
      " ボリューム シリアル番号は 7A08-C8EA です\n",
      "\n",
      " C:\\Users\\dan\\OneDrive\\ドキュメント\\GitHub\\RadiShLab\\res のディレクトリ\n",
      "\n",
      "2020/03/01  19:46    <DIR>          .\n",
      "2020/03/01  19:46    <DIR>          ..\n",
      "2020/03/01  19:44    <DIR>          .ipynb_checkpoints\n",
      "2020/03/01  19:46            40,499 Iconmaker.ipynb\n",
      "2020/02/28  19:48         3,491,456 paprika.pkl\n",
      "2020/03/01  19:46               533 pennib64.png\n",
      "2020/03/01  19:43           108,772 picdic.pkl\n",
      "2020/02/26  11:49    <DIR>          picdicpics\n",
      "2020/02/26  11:49             3,352 picdicpicsTHUM.PNG\n",
      "2020/02/26  11:49           820,004 Primrose.pkl\n",
      "2020/02/28  20:58    <DIR>          testpics\n",
      "               6 個のファイル           4,464,616 バイト\n",
      "               5 個のディレクトリ  193,950,777,344 バイトの空き領域\n"
     ]
    }
   ],
   "source": [
    "!dir"
   ]
  },
  {
   "cell_type": "code",
   "execution_count": null,
   "metadata": {},
   "outputs": [],
   "source": []
  }
 ],
 "metadata": {
  "kernelspec": {
   "display_name": "Python 3",
   "language": "python",
   "name": "python3"
  },
  "language_info": {
   "codemirror_mode": {
    "name": "ipython",
    "version": 3
   },
   "file_extension": ".py",
   "mimetype": "text/x-python",
   "name": "python",
   "nbconvert_exporter": "python",
   "pygments_lexer": "ipython3",
   "version": "3.7.6"
  }
 },
 "nbformat": 4,
 "nbformat_minor": 4
}
