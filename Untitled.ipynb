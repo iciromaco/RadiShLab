{
 "cells": [
  {
   "cell_type": "code",
   "execution_count": 1,
   "metadata": {},
   "outputs": [
    {
     "data": {
      "text/plain": [
       "(26, 308, 1.203125)"
      ]
     },
     "execution_count": 1,
     "metadata": {},
     "output_type": "execute_result"
    }
   ],
   "source": [
    "UNIT = 256\n",
    "mr = 1.2\n",
    "MSIZE = int((UNIT*(mr-1))//2)+1\n",
    "MSIZE, UNIT+2*MSIZE,(UNIT+2*MSIZE)/UNIT"
   ]
  },
  {
   "cell_type": "code",
   "execution_count": 2,
   "metadata": {},
   "outputs": [],
   "source": [
    "import sys,os\n",
    "import numpy as np\n",
    "import matplotlib.pyplot as plt\n",
    "import cv2\n",
    "import rdlib.rdlib4 as rd\n",
    "\n",
    "# from sympy import *\n",
    "from sympy import diff,Symbol,Matrix,symbols,solve,simplify,binomial\n",
    "from sympy.abc import a,b,c\n",
    "# init_session()\n",
    "from sympy import var\n",
    "px,py =var('px:4'),var('py:4')\n",
    "\n",
    "# Google Colaboratory の MyDrive パス\n",
    "COLABRDROOT = \"/content/drive/My Drive/RadiShLab\"\n",
    "\n",
    "# ホーム\n",
    "LOCALHOME = \".\"  # フォルダを絶対指定するならここを書き変えてください\n",
    "\n",
    "# 環境判定（Google Colaboratory かどうかの判定）\n",
    "try:\n",
    "    from google.colab import drive\n",
    "    drive.mount('/content/drive')\n",
    "    sys.path.append(COLABRDROOT+'/rdlib')\n",
    "    COLABORATORY = True\n",
    "except ImportError:\n",
    "    sys.path.append('./rdlib')\n",
    "    COLABORATORY = False\n",
    "import rdlib4 as rd\n",
    "\n",
    "# フォルダ指定\n",
    "labhome = COLABRDROOT if COLABORATORY else LOCALHOME\n",
    "\n",
    "NSilF = './RDSamples/NSilImages' # 正規化されたシルエット画像のフォルダ\n",
    "imgs = rd.collectimages(NSilF)       # シルエット画像のリスト"
   ]
  },
  {
   "cell_type": "code",
   "execution_count": 3,
   "metadata": {},
   "outputs": [
    {
     "data": {
      "text/plain": [
       "255"
      ]
     },
     "execution_count": 3,
     "metadata": {},
     "output_type": "execute_result"
    }
   ],
   "source": [
    "img = imgs[6]\n",
    "img[img>0].min()"
   ]
  },
  {
   "cell_type": "code",
   "execution_count": 4,
   "metadata": {},
   "outputs": [
    {
     "data": {
      "text/plain": [
       "(308, 308)"
      ]
     },
     "execution_count": 4,
     "metadata": {},
     "output_type": "execute_result"
    }
   ],
   "source": [
    "img2 = rd.makeUnitImage(img,mr=1.2,unitSize=UNIT)\n",
    "img2.shape"
   ]
  },
  {
   "cell_type": "code",
   "execution_count": 6,
   "metadata": {},
   "outputs": [
    {
     "ename": "NameError",
     "evalue": "name 'con' is not defined",
     "output_type": "error",
     "traceback": [
      "\u001b[1;31m---------------------------------------------------------------------------\u001b[0m",
      "\u001b[1;31mNameError\u001b[0m                                 Traceback (most recent call last)",
      "\u001b[1;32m<ipython-input-6-997095597f1b>\u001b[0m in \u001b[0;36m<module>\u001b[1;34m\u001b[0m\n\u001b[0;32m      1\u001b[0m \u001b[0mc_x\u001b[0m\u001b[1;33m,\u001b[0m\u001b[0mc_y\u001b[0m\u001b[1;33m,\u001b[0m\u001b[1;33m(\u001b[0m\u001b[0mx\u001b[0m\u001b[1;33m,\u001b[0m\u001b[0my\u001b[0m\u001b[1;33m,\u001b[0m\u001b[0mw\u001b[0m\u001b[1;33m,\u001b[0m\u001b[0mh\u001b[0m\u001b[1;33m,\u001b[0m\u001b[0ma\u001b[0m\u001b[1;33m)\u001b[0m \u001b[1;33m=\u001b[0m \u001b[0mrd\u001b[0m\u001b[1;33m.\u001b[0m\u001b[0mgetCoG\u001b[0m\u001b[1;33m(\u001b[0m\u001b[0mimg2\u001b[0m\u001b[1;33m)\u001b[0m\u001b[1;33m\u001b[0m\u001b[1;33m\u001b[0m\u001b[0m\n\u001b[0;32m      2\u001b[0m \u001b[0mcanvas\u001b[0m \u001b[1;33m=\u001b[0m \u001b[0mnp\u001b[0m\u001b[1;33m.\u001b[0m\u001b[0mzeros_like\u001b[0m\u001b[1;33m(\u001b[0m\u001b[0mimg2\u001b[0m\u001b[1;33m)\u001b[0m\u001b[1;33m\u001b[0m\u001b[1;33m\u001b[0m\u001b[0m\n\u001b[1;32m----> 3\u001b[1;33m \u001b[0mrd\u001b[0m\u001b[1;33m.\u001b[0m\u001b[0mdrawContours\u001b[0m\u001b[1;33m(\u001b[0m\u001b[0mcanvas\u001b[0m\u001b[1;33m,\u001b[0m\u001b[0mcon\u001b[0m\u001b[1;33m)\u001b[0m\u001b[1;33m\u001b[0m\u001b[1;33m\u001b[0m\u001b[0m\n\u001b[0m\u001b[0;32m      4\u001b[0m \u001b[0mcanvas\u001b[0m \u001b[1;33m=\u001b[0m \u001b[0mnp\u001b[0m\u001b[1;33m.\u001b[0m\u001b[0mzeros_like\u001b[0m\u001b[1;33m(\u001b[0m\u001b[0mimg\u001b[0m\u001b[1;33m)\u001b[0m\u001b[1;33m\u001b[0m\u001b[1;33m\u001b[0m\u001b[0m\n\u001b[0;32m      5\u001b[0m \u001b[0mrd\u001b[0m\u001b[1;33m.\u001b[0m\u001b[0mdrawContours\u001b[0m\u001b[1;33m(\u001b[0m\u001b[0mcanvas\u001b[0m\u001b[1;33m,\u001b[0m\u001b[0mcon\u001b[0m\u001b[1;33m)\u001b[0m\u001b[1;33m\u001b[0m\u001b[1;33m\u001b[0m\u001b[0m\n",
      "\u001b[1;31mNameError\u001b[0m: name 'con' is not defined"
     ]
    }
   ],
   "source": [
    "c_x,c_y,(x,y,w,h,a) = rd.getCoG(img2)\n",
    "canvas = np.zeros_like(img2)\n",
    "rd.drawContours(canvas,con)\n",
    "canvas = np.zeros_like(img)\n",
    "rd.drawContours(canvas,con)\n",
    "plt.imshow(canvas)\n",
    "c_x,c_y,(x,y,w,h,a)"
   ]
  },
  {
   "cell_type": "code",
   "execution_count": 199,
   "metadata": {},
   "outputs": [],
   "source": [
    "def curvature(func):\n",
    "    t= symbols('t')\n",
    "    fx,fy = func\n",
    "    dx = diff(fx)\n",
    "    dy = diff(fy)\n",
    "    ddx = diff(dx)\n",
    "    ddy = diff(dy)\n",
    "    k = (dx*ddy - dy*ddy)/(dx*dx + dy*dy)**(3/2)\n",
    "    return k*k\n",
    "\n",
    "def maxCurvatureP(rdimg,con=[],topcut = 0, bottomcut = 0.8, sband = 0.25):\n",
    "    # rdimg 画像、con 輪郭データ\n",
    "    # topcut, bottomcut 個体の高さに対してこの範囲は除外する\n",
    "    # sband 曲率最大値を探す範囲　0.5 を挟んで両側この値の範囲で曲率最大点を探す\n",
    "    \n",
    "    # 輪郭データが与えられていないなら抽出\n",
    "    if len(con) == 0:\n",
    "        con = rd.getContour(rdimg)\n",
    "    ys = np.array([d[1] for [d] in con])\n",
    "    y0 = ys.min() # バウンディングボックスの上端\n",
    "    h = ys.max() - y0 + 1 # バウンディングボックスの高さ\n",
    "    canvas = np.zeros_like(rdimg)\n",
    "    rd.drawContours(canvas,con) # 輪郭を描く\n",
    "    canvas[int(y + topcut*h):int(y + bottomcut*h),:] = 0 # 指定範囲を黒で塗りつぶす\n",
    "    # 輪郭の輪郭を抽出\n",
    "    contours, hierarchy = rd.cv2findContours34(canvas, cv2.RETR_EXTERNAL, cv2.CHAIN_APPROX_NONE)    \n",
    "    maxcnt_i = np.argmax(np.array([len(c) for c in contours])) # 最も長い輪郭データの番号\n",
    "\n",
    "    # 幅１の図形の輪郭なので、データが折り返しになっている\n",
    "    cnt0 = contours[maxcnt_i].squeeze() # 最も長い輪郭\n",
    "\n",
    "    i1 = 0\n",
    "    for i in range(int(len(cnt0))-1):\n",
    "        if np.all(cnt0[i-1] == cnt0[i+1]) or np.all(cnt0[i-2] == cnt0[i+1]): \n",
    "            i0,i1= i1,i\n",
    "    cnt0 = cnt0[i0:i1+1]\n",
    "    if cnt0[0][1] > cnt0[-1][1]: \n",
    "        cnt0 = cnt0[::-1]\n",
    "\n",
    "    bez = rd.BezierCurve(N=8,samples=cnt0) # ８次近似固定\n",
    "    cps,[fx,fy] = bez.fit0() # ベジエ近似\n",
    "    t= symbols('t')\n",
    "    kf = curvature([fx,fy]) # 曲率関数を得る\n",
    "    # t = 0.5 ± sband 内 を１００等分して曲率データを得る\n",
    "    ps = np.array([float(kf.subs(t,s)) for s in np.linspace(0.5-sband,0.5+sband,101)])\n",
    "\n",
    "    maxindex = ps.argmax() # 曲率最大のデータ番号\n",
    "    tmax = 0.5 - sband + 2*sband*maxindex/100\n",
    "    mx,my = float(fx.subs(t,tmax)),float(fy.subs(t,tmax)) # 曲率最大点の座標    \n",
    "    maxindex = np.array([np.linalg.norm(v) for v in cnt0 - [mx,my]]).argmin()\n",
    "\n",
    "    plt.plot(np.linspace(0.5-sband,0.5+sband,101),ps)\n",
    "    print(maxindex,mx,my)\n",
    "    return maxindex, cnt0"
   ]
  },
  {
   "cell_type": "code",
   "execution_count": 198,
   "metadata": {},
   "outputs": [
    {
     "name": "stdout",
     "output_type": "stream",
     "text": [
      "[[164  25]]\n"
     ]
    }
   ],
   "source": [
    "print(cnt[index])"
   ]
  },
  {
   "cell_type": "code",
   "execution_count": 201,
   "metadata": {},
   "outputs": [
    {
     "name": "stdout",
     "output_type": "stream",
     "text": [
      "\n",
      "89 157.23575854081446 277.4471893810887\n"
     ]
    },
    {
     "data": {
      "text/plain": [
       "<matplotlib.collections.PathCollection at 0x2784f7479c8>"
      ]
     },
     "execution_count": 201,
     "metadata": {},
     "output_type": "execute_result"
    },
    {
     "data": {
      "image/png": "[encoded data removed]",
      "text/plain": [
       "<Figure size 432x288 with 1 Axes>"
      ]
     },
     "metadata": {
      "needs_background": "light"
     },
     "output_type": "display_data"
    }
   ],
   "source": [
    "index,cnt = maxCurvatureP(img,con=[],topcut = 0, bottomcut = 0.8, sband = 0.25)\n",
    "index,cnt[index]\n",
    "plt.imshow(img)\n",
    "plt.scatter(cnt[index][0],cnt[index][1])"
   ]
  },
  {
   "cell_type": "code",
   "execution_count": 44,
   "metadata": {},
   "outputs": [
    {
     "data": {
      "text/plain": [
       "[<matplotlib.lines.Line2D at 0x27841fe7c88>]"
      ]
     },
     "execution_count": 44,
     "metadata": {},
     "output_type": "execute_result"
    },
    {
     "data": {
      "image/png": "[encoded data removed]",
      "text/plain": [
       "<Figure size 432x288 with 1 Axes>"
      ]
     },
     "metadata": {
      "needs_background": "light"
     },
     "output_type": "display_data"
    }
   ],
   "source": [
    "t= symbols('t')\n",
    "kf = curvature([fx,fy])\n",
    "ps = [kf.subs(t,s) for s in np.linspace(0,1,100)]\n",
    "plt.plot(np.linspace(0,1,100),ps)"
   ]
  },
  {
   "cell_type": "code",
   "execution_count": null,
   "metadata": {},
   "outputs": [],
   "source": []
  }
 ],
 "metadata": {
  "kernelspec": {
   "display_name": "Python 3",
   "language": "python",
   "name": "python3"
  },
  "language_info": {
   "codemirror_mode": {
    "name": "ipython",
    "version": 3
   },
   "file_extension": ".py",
   "mimetype": "text/x-python",
   "name": "python",
   "nbconvert_exporter": "python",
   "pygments_lexer": "ipython3",
   "version": "3.7.6"
  }
 },
 "nbformat": 4,
 "nbformat_minor": 4
}
