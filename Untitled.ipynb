{
 "cells": [
  {
   "cell_type": "code",
   "execution_count": 1,
   "metadata": {},
   "outputs": [],
   "source": [
    "import sys,os\n",
    "import numpy as np\n",
    "import matplotlib.pyplot as plt\n",
    "import cv2\n",
    "import rdlib.rdlib4 as rd\n",
    "\n",
    "# from sympy import *\n",
    "from sympy import diff,Symbol,Matrix,symbols,solve,simplify,binomial\n",
    "from sympy.abc import a,b,c\n",
    "# init_session()\n",
    "from sympy import var\n",
    "px,py =var('px:4'),var('py:4')\n",
    "\n",
    "# Google Colaboratory の MyDrive パス\n",
    "COLABRDROOT = \"/content/drive/My Drive/RadiShLab\"\n",
    "\n",
    "# ホーム\n",
    "LOCALHOME = \".\"  # フォルダを絶対指定するならここを書き変えてください\n",
    "\n",
    "# 環境判定（Google Colaboratory かどうかの判定）\n",
    "try:\n",
    "    from google.colab import drive\n",
    "    drive.mount('/content/drive')\n",
    "    sys.path.append(COLABRDROOT+'/rdlib')\n",
    "    COLABORATORY = True\n",
    "except ImportError:\n",
    "    sys.path.append('./rdlib')\n",
    "    COLABORATORY = False\n",
    "import rdlib4 as rd\n",
    "\n",
    "# フォルダ指定\n",
    "labhome = COLABRDROOT if COLABORATORY else LOCALHOME\n",
    "\n",
    "\n",
    "NSilF = './RDSamples/NSilImages' # 正規化されたシルエット画像のフォルダ\n",
    "imgs = rd.collectimages(NSilF)       # シルエット画像のリスト"
   ]
  },
  {
   "cell_type": "code",
   "execution_count": 2,
   "metadata": {},
   "outputs": [
    {
     "data": {
      "text/plain": [
       "308"
      ]
     },
     "execution_count": 2,
     "metadata": {},
     "output_type": "execute_result"
    }
   ],
   "source": [
    "img = imgs[0]\n",
    "con,tT,bottomTip,_st,_sb = rd.findTips(img,con=[])\n"
   ]
  },
  {
   "cell_type": "code",
   "execution_count": null,
   "metadata": {},
   "outputs": [],
   "source": []
  }
 ],
 "metadata": {
  "kernelspec": {
   "display_name": "Python 3",
   "language": "python",
   "name": "python3"
  },
  "language_info": {
   "codemirror_mode": {
    "name": "ipython",
    "version": 3
   },
   "file_extension": ".py",
   "mimetype": "text/x-python",
   "name": "python",
   "nbconvert_exporter": "python",
   "pygments_lexer": "ipython3",
   "version": "3.7.6"
  }
 },
 "nbformat": 4,
 "nbformat_minor": 4
}
