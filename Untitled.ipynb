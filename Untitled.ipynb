{
 "cells": [
  {
   "cell_type": "code",
   "execution_count": 2,
   "metadata": {},
   "outputs": [],
   "source": [
    "import sys,os\n",
    "import numpy as np\n",
    "import matplotlib.pyplot as plt\n",
    "import cv2\n",
    "import rdlib.rdlib4 as rd\n",
    "\n",
    "# from sympy import *\n",
    "from sympy import diff,Symbol,Matrix,symbols,solve,simplify,binomial\n",
    "from sympy.abc import a,b,c\n",
    "# init_session()\n",
    "from sympy import var\n",
    "px,py =var('px:4'),var('py:4')\n",
    "\n",
    "# Google Colaboratory の MyDrive パス\n",
    "COLABRDROOT = \"/content/drive/My Drive/RadiShLab\"\n",
    "\n",
    "# ホーム\n",
    "LOCALHOME = \".\"  # フォルダを絶対指定するならここを書き変えてください\n",
    "\n",
    "# 環境判定（Google Colaboratory かどうかの判定）\n",
    "try:\n",
    "    from google.colab import drive\n",
    "    drive.mount('/content/drive')\n",
    "    sys.path.append(COLABRDROOT+'/rdlib')\n",
    "    COLABORATORY = True\n",
    "except ImportError:\n",
    "    sys.path.append('./rdlib')\n",
    "    COLABORATORY = False\n",
    "import rdlib4 as rd\n",
    "\n",
    "# フォルダ指定\n",
    "labhome = COLABRDROOT if COLABORATORY else LOCALHOME\n",
    "\n",
    "\n",
    "NSilF = './RDSamples/NSilImages' # 正規化されたシルエット画像のフォルダ\n",
    "imgs = rd.collectimages(NSilF)       # シルエット画像のリスト"
   ]
  },
  {
   "cell_type": "code",
   "execution_count": 210,
   "metadata": {},
   "outputs": [
    {
     "data": {
      "text/plain": [
       "array([ 25,  26,  26,  26,  26,  26,  27,  27,  27,  28,  28,  28,  29,\n",
       "        29,  29,  30,  30,  30,  31,  32,  32,  32,  32,  33,  33,  33,\n",
       "        34,  34,  35,  35,  36,  37,  38,  38,  39,  40,  41,  42,  43,\n",
       "        44,  45,  46,  47,  48,  49,  50,  51,  52,  53,  54,  55,  56,\n",
       "        57,  58,  59,  60,  61,  62,  63,  64,  65,  66,  67,  68,  69,\n",
       "        70,  71,  72,  73,  74,  75,  76,  77,  78,  79,  80,  81,  82,\n",
       "        83,  84,  85,  86,  87,  88,  89,  90,  91,  92,  93,  94,  95,\n",
       "        96,  97,  98,  99, 100, 101, 102, 103, 104, 105, 106, 107, 108,\n",
       "       109, 110, 111, 112, 113, 114, 115, 116, 117, 118, 119, 120, 121,\n",
       "       122, 123, 124, 125, 126, 127, 128, 129, 130, 131, 132, 133, 134,\n",
       "       135, 136, 137, 138, 139, 140, 141, 142, 143, 144, 145, 146, 147,\n",
       "       148, 149, 150, 151, 152, 153, 154, 155, 156, 157, 158, 159, 160,\n",
       "       161, 162, 163, 164, 165, 166, 167, 168, 169, 170, 171, 172, 173,\n",
       "       174, 175, 176, 177, 178, 179, 180, 181, 182, 183, 184, 185, 186,\n",
       "       187, 188, 189, 190, 191, 192, 193, 194, 195, 196, 197, 198, 199,\n",
       "       200, 201, 202, 203, 204, 205, 206, 207, 208, 209, 210, 211, 212,\n",
       "       213, 214, 215, 216, 217, 218, 219, 220, 221, 222, 223, 224, 225,\n",
       "       226, 227, 228, 229, 230, 231, 232, 233, 234, 235, 236, 237, 238,\n",
       "       239, 240, 241, 242, 243, 244, 245, 246, 246, 247, 248, 249, 250,\n",
       "       251, 252, 253, 254, 255, 256, 257, 258, 258, 259, 260, 260, 261,\n",
       "       262, 263, 264, 265, 266, 267, 268, 268, 269, 269, 269, 270, 270,\n",
       "       271, 271, 272, 272, 272, 273, 273, 274, 274, 274, 274, 274, 274,\n",
       "       274, 274, 274, 274, 275, 275, 276, 276, 276, 276, 276, 276, 275,\n",
       "       276, 276, 276, 277, 277, 278, 278, 279, 279, 279, 279, 280, 280,\n",
       "       280, 279, 279, 278, 278, 277, 277, 276, 276, 276, 276, 275, 274,\n",
       "       274, 274, 273, 273, 273, 273, 272, 272, 272, 271, 271, 271, 270,\n",
       "       269, 269, 268, 268, 268, 268, 267, 267, 267, 266, 266, 266, 265,\n",
       "       264, 263, 263, 262, 262, 261, 261, 260, 260, 259, 258, 257, 256,\n",
       "       255, 254, 253, 252, 251, 250, 249, 248, 247, 246, 245, 244, 243,\n",
       "       242, 241, 240, 239, 238, 237, 236, 235, 234, 233, 232, 231, 230,\n",
       "       229, 228, 227, 226, 225, 224, 223, 222, 221, 220, 219, 218, 217,\n",
       "       216, 215, 214, 213, 212, 211, 210, 209, 208, 207, 206, 205, 204,\n",
       "       203, 202, 201, 200, 199, 198, 197, 196, 195, 194, 193, 192, 191,\n",
       "       190, 189, 188, 187, 186, 185, 184, 183, 182, 181, 180, 179, 178,\n",
       "       177, 176, 175, 174, 173, 172, 171, 170, 169, 168, 167, 166, 165,\n",
       "       164, 163, 162, 161, 160, 159, 158, 157, 156, 155, 154, 153, 152,\n",
       "       151, 150, 149, 148, 147, 146, 145, 144, 143, 142, 141, 140, 139,\n",
       "       138, 137, 136, 135, 134, 133, 132, 131, 130, 129, 128, 127, 126,\n",
       "       125, 124, 123, 122, 121, 120, 119, 118, 117, 116, 115, 114, 113,\n",
       "       112, 111, 110, 109, 108, 107, 106, 105, 104, 103, 102, 101, 100,\n",
       "        99,  98,  97,  96,  95,  94,  93,  92,  91,  90,  89,  88,  87,\n",
       "        86,  85,  84,  83,  82,  81,  80,  79,  78,  77,  76,  75,  74,\n",
       "        73,  72,  71,  70,  69,  68,  67,  66,  65,  64,  63,  62,  61,\n",
       "        60,  59,  58,  57,  56,  55,  54,  53,  52,  51,  50,  49,  48,\n",
       "        47,  46,  45,  44,  43,  42,  41,  40,  39,  38,  37,  36,  35,\n",
       "        34,  33,  33,  32,  32,  31,  30,  30,  29,  29,  28,  28,  27,\n",
       "        27,  26,  26,  26,  26,  25,  25,  25,  25,  25,  25,  25,  25,\n",
       "        25,  25,  25,  25], dtype=int32)"
      ]
     },
     "execution_count": 210,
     "metadata": {},
     "output_type": "execute_result"
    }
   ],
   "source": [
    "con.squeeze().squeeze().squeeze()[:,1]"
   ]
  },
  {
   "cell_type": "code",
   "execution_count": 3,
   "metadata": {},
   "outputs": [],
   "source": [
    "img = imgs[0]\n",
    "con,tT,bottomTip,_st,_sb = rd.findTips(img,con=[])\n"
   ]
  },
  {
   "cell_type": "code",
   "execution_count": 27,
   "metadata": {},
   "outputs": [
    {
     "data": {
      "text/plain": [
       "(152.0, 107.0, (80, 25, 146, 256, 19740))"
      ]
     },
     "execution_count": 27,
     "metadata": {},
     "output_type": "execute_result"
    },
    {
     "data": {
      "image/png": "[encoded data removed]",
      "text/plain": [
       "<Figure size 432x288 with 1 Axes>"
      ]
     },
     "metadata": {
      "needs_background": "light"
     },
     "output_type": "display_data"
    }
   ],
   "source": [
    "c_x,c_y,(x,y,w,h,a) = rd.getCoG(img)\n",
    "\n",
    "rd.drawContours(canvas,con)\n",
    "canvas = np.zeros_like(img)\n",
    "rd.drawContours(canvas,con)\n",
    "plt.imshow(canvas)\n",
    "c_x,c_y,(x,y,w,h,a)"
   ]
  },
  {
   "cell_type": "code",
   "execution_count": 199,
   "metadata": {},
   "outputs": [],
   "source": [
    "def curvature(func):\n",
    "    t= symbols('t')\n",
    "    fx,fy = func\n",
    "    dx = diff(fx)\n",
    "    dy = diff(fy)\n",
    "    ddx = diff(dx)\n",
    "    ddy = diff(dy)\n",
    "    k = (dx*ddy - dy*ddy)/(dx*dx + dy*dy)**(3/2)\n",
    "    return k*k\n",
    "\n",
    "def maxCurvatureP(rdimg,con=[],topcut = 0, bottomcut = 0.8, sband = 0.25):\n",
    "    # rdimg 画像、con 輪郭データ\n",
    "    # topcut, bottomcut 個体の高さに対してこの範囲は除外する\n",
    "    # sband 曲率最大値を探す範囲　0.5 を挟んで両側この値の範囲で曲率最大点を探す\n",
    "    \n",
    "    # 輪郭データが与えられていないなら抽出\n",
    "    if len(con) == 0:\n",
    "        con = rd.getContour(rdimg)\n",
    "    ys = np.array([d[1] for [d] in con])\n",
    "    y0 = ys.min() # バウンディングボックスの上端\n",
    "    h = ys.max() - y0 + 1 # バウンディングボックスの高さ\n",
    "    canvas = np.zeros_like(rdimg)\n",
    "    rd.drawContours(canvas,con) # 輪郭を描く\n",
    "    canvas[int(y + topcut*h):int(y + bottomcut*h),:] = 0 # 指定範囲を黒で塗りつぶす\n",
    "    # 輪郭の輪郭を抽出\n",
    "    contours, hierarchy = rd.cv2findContours34(canvas, cv2.RETR_EXTERNAL, cv2.CHAIN_APPROX_NONE)    \n",
    "    maxcnt_i = np.argmax(np.array([len(c) for c in contours])) # 最も長い輪郭データの番号\n",
    "\n",
    "    # 幅１の図形の輪郭なので、データが折り返しになっている\n",
    "    cnt0 = contours[maxcnt_i].squeeze() # 最も長い輪郭\n",
    "\n",
    "    i1 = 0\n",
    "    for i in range(int(len(cnt0))-1):\n",
    "        if np.all(cnt0[i-1] == cnt0[i+1]) or np.all(cnt0[i-2] == cnt0[i+1]): \n",
    "            i0,i1= i1,i\n",
    "    cnt0 = cnt0[i0:i1+1]\n",
    "    if cnt0[0][1] > cnt0[-1][1]: \n",
    "        cnt0 = cnt0[::-1]\n",
    "\n",
    "    bez = rd.BezierCurve(N=8,samples=cnt0) # ８次近似固定\n",
    "    cps,[fx,fy] = bez.fit0() # ベジエ近似\n",
    "    t= symbols('t')\n",
    "    kf = curvature([fx,fy]) # 曲率関数を得る\n",
    "    # t = 0.5 ± sband 内 を１００等分して曲率データを得る\n",
    "    ps = np.array([float(kf.subs(t,s)) for s in np.linspace(0.5-sband,0.5+sband,101)])\n",
    "\n",
    "    maxindex = ps.argmax() # 曲率最大のデータ番号\n",
    "    tmax = 0.5 - sband + 2*sband*maxindex/100\n",
    "    mx,my = float(fx.subs(t,tmax)),float(fy.subs(t,tmax)) # 曲率最大点の座標    \n",
    "    maxindex = np.array([np.linalg.norm(v) for v in cnt0 - [mx,my]]).argmin()\n",
    "\n",
    "    plt.plot(np.linspace(0.5-sband,0.5+sband,101),ps)\n",
    "    print(maxindex,mx,my)\n",
    "    return maxindex, cnt0"
   ]
  },
  {
   "cell_type": "code",
   "execution_count": 198,
   "metadata": {},
   "outputs": [
    {
     "name": "stdout",
     "output_type": "stream",
     "text": [
      "[[164  25]]\n"
     ]
    }
   ],
   "source": [
    "print(cnt[index])"
   ]
  },
  {
   "cell_type": "code",
   "execution_count": 201,
   "metadata": {},
   "outputs": [
    {
     "name": "stdout",
     "output_type": "stream",
     "text": [
      "\n",
      "89 157.23575854081446 277.4471893810887\n"
     ]
    },
    {
     "data": {
      "text/plain": [
       "<matplotlib.collections.PathCollection at 0x2784f7479c8>"
      ]
     },
     "execution_count": 201,
     "metadata": {},
     "output_type": "execute_result"
    },
    {
     "data": {
      "image/png": "[encoded data removed]",
      "text/plain": [
       "<Figure size 432x288 with 1 Axes>"
      ]
     },
     "metadata": {
      "needs_background": "light"
     },
     "output_type": "display_data"
    }
   ],
   "source": [
    "index,cnt = maxCurvatureP(img,con=[],topcut = 0, bottomcut = 0.8, sband = 0.25)\n",
    "index,cnt[index]\n",
    "plt.imshow(img)\n",
    "plt.scatter(cnt[index][0],cnt[index][1])"
   ]
  },
  {
   "cell_type": "code",
   "execution_count": 44,
   "metadata": {},
   "outputs": [
    {
     "data": {
      "text/plain": [
       "[<matplotlib.lines.Line2D at 0x27841fe7c88>]"
      ]
     },
     "execution_count": 44,
     "metadata": {},
     "output_type": "execute_result"
    },
    {
     "data": {
      "image/png": "[encoded data removed]",
      "text/plain": [
       "<Figure size 432x288 with 1 Axes>"
      ]
     },
     "metadata": {
      "needs_background": "light"
     },
     "output_type": "display_data"
    }
   ],
   "source": [
    "t= symbols('t')\n",
    "kf = curvature([fx,fy])\n",
    "ps = [kf.subs(t,s) for s in np.linspace(0,1,100)]\n",
    "plt.plot(np.linspace(0,1,100),ps)"
   ]
  },
  {
   "cell_type": "code",
   "execution_count": null,
   "metadata": {},
   "outputs": [],
   "source": []
  }
 ],
 "metadata": {
  "kernelspec": {
   "display_name": "Python 3",
   "language": "python",
   "name": "python3"
  },
  "language_info": {
   "codemirror_mode": {
    "name": "ipython",
    "version": 3
   },
   "file_extension": ".py",
   "mimetype": "text/x-python",
   "name": "python",
   "nbconvert_exporter": "python",
   "pygments_lexer": "ipython3",
   "version": "3.7.6"
  }
 },
 "nbformat": 4,
 "nbformat_minor": 4
}
