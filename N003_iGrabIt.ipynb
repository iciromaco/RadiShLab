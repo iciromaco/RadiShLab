{
 "cells": [
  {
   "cell_type": "markdown",
   "metadata": {
    "colab_type": "text",
    "id": "view-in-github"
   },
   "source": [
    "# Note003_GrabCutを用いたインタラクティブ前景抽出"
   ]
  },
  {
   "cell_type": "markdown",
   "metadata": {
    "colab_type": "text",
    "id": "u329GWDu8BZH"
   },
   "source": [
    "\n",
    "#  iGrabIt のつかい方\n",
    "\n",
    "プログラム名 iGrabit.py\n",
    "\n",
    "OpenCV のGrabCutという関数を用いて画像の前景領域を抽出するためのツールです。\n",
    "\n",
    "<div align=\"center\">\n",
    "<img src=\"https://user-images.githubusercontent.com/24559785/75624984-8d871280-5bb1-11ea-97e3-1828e10a120b.gif\" width=512 align='center'> </img>\n",
    "</div>\n",
    "\n",
    "(参考) [GrabCutを使った対話的前景領域抽出](http://labs.eecs.tottori-u.ac.jp/sd/Member/oyamada/OpenCV/html/py_tutorials/py_imgproc/py_grabcut/py_grabcut.html)\n"
   ]
  },
  {
   "cell_type": "markdown",
   "metadata": {
    "colab_type": "text",
    "id": "JyG74IzI72Dq"
   },
   "source": [
    "このプログラムはGUIの実現に kivy を用いました。kivyは Google Colaboratory と互換性がないようで、実行すると勝手に画面解像度が変わってしまい、うまくできません。またローカルで実行する場合も、 jupyter notebook 上で実行すると不具合がでるようです。\n",
    "\n",
    "jupyter notebook 上の起動でも、!起動であれは大丈夫です。"
   ]
  },
  {
   "cell_type": "markdown",
   "metadata": {
    "colab_type": "text",
    "id": "UwGBxbqQ9yUK"
   },
   "source": [
    "## プログラムの起動手順\n",
    "\n",
    "Anaconda Terminal 上で、次のコマンドを実行\n",
    "```\n",
    "cd <RadiShLabディレクトリ>\n",
    "python -m rdlib.iGrabit\n",
    "```\n",
    "\n",
    "仮想環境RLを作っている場合は、コマンドを打ち込む前に、\n",
    "\n",
    "1. Anaconda Navigator を起動\n",
    "2. Environments \n",
    "3. RL 仮想環境から terminal を起動\n",
    "\n",
    "という手順が必要です。\n",
    "\n",
    "<img width=\"323\" alt=\"75362944-54992600-58b1-11ea-8f18-49bfb7838167\" src=\"https://user-images.githubusercontent.com/24559785/75363685-5fa08600-58b2-11ea-9a7d-b3fc8bce2600.png\" >\n",
    "\n",
    "最近の Windows版 Anaconda であれば、Startメニューに上の図のように、仮想環境のターミナルを起動するメニューができているはずなので、それを起動するのが簡単です。\n"
   ]
  },
  {
   "cell_type": "markdown",
   "metadata": {},
   "source": [
    "# 使用方法\n",
    "## File メニュー\n",
    "\n",
    "特に説明は不要だと思います。\n",
    "\n",
    "- 開く\n",
    "- 保存\n",
    "- 終了\n",
    "\n",
    "の３つは想像通りの働きをします。\n",
    "\n",
    "Quit メニューを使わなくても、ウィンドウの閉じるボタンで終了させても構いません。\n",
    "\n",
    "まだバグがあるかもしれません。もしもウィンドウがフリーズしてしまったら、terminal の方で、Control+C を使って強制終了させてください。\n",
    "\n",
    "\n",
    "- スクリーンショット\n",
    "\n",
    "はおまけの機能です。\n",
    "\n",
    "スクリーンショットはデスクトップ全体を取り込んで処理対象とします。一部を切り取ったりする機能はありません。\n",
    "\n",
    "描線の太さとは、輪郭線の太さを指します。メニューを選ぶたびに１ピクセルと２ピクセルとの間でトグルします。\n",
    "\n",
    "切り替えてもすぐには変更が反映しません。次に描画する時から変更後の太さに変わります。太さが変わってもシルエットが変わるわけではありません。\n",
    "\n",
    "## Preferences メニュー\n",
    "\n",
    "- 保存対象:\n",
    "> - **orig**  出力はシルエット画像のみで、原画像と同じサイズ\n",
    "> - **crop**　出力は原画像を指定枠で切り出したカラー画像と同じサイズのシルエット画像\n",
    "メニュー項目を選ぶたびに orig <ー> crop が切り替わる。\n",
    "\n",
    "シルエット画像の名前はデフォルトでは原画像名に接頭語 Sil\\_がついた名前となるが、自由に変更してかまわない。\n",
    "crop の場合のカラー画像のファイル名はシルエット画像名に語尾 \\_Org がついた名前で同じフォルダに保存される。\n",
    "\n",
    "- 描線の太さ\n",
    "\n",
    "メニュー項目を選ぶたびに 1 <ー> 2 が切り替わる。\n",
    "\n",
    "\n"
   ]
  },
  {
   "cell_type": "markdown",
   "metadata": {},
   "source": [
    "## 切り出しの手順\n",
    "1. 切り出し枠の指定\n",
    "> 切り出したいオブジェクトを囲むように対角の２点を指定してください。座標はマウスボタンのリリース時に確定となる方式です。\n",
    "2. GrabCut のリトライ\n",
    "> 指定した枠で画像が切り取られると同時に GrabCut が実行されます。Cutボタンを押すと輪郭線が微妙に変化します。何度か押してみて、きれいに切り出せたらところでやめてください。\n",
    "3. ヒント情報を与えた上でカット\n",
    "> 結果に満足がいかない場合は、ヒント情報を与えてください。  \n",
    "> 0 ボタンを押し、確実に背景である画素を指定   \n",
    "> 1 ボタンを押し、確実に前景である画素を指定\n",
    "\n",
    "Cutを試みるたびに境界線の位置が変化するのは、GrabCutが漸近的最適化アルゴリズムだからです。一定の収束条件のもとに計算を打ち切って結果としています。輪郭が鮮明で曖昧性がなければすぐに収束するので繰り返しを追加しても変化は起こりませんが、そうでない場合は変化していき、場合によっては振動します。\n",
    "[(参考)](http://visitlab.jp/pdf/GrabCut.pdf)"
   ]
  },
  {
   "cell_type": "code",
   "execution_count": 1,
   "metadata": {},
   "outputs": [],
   "source": [
    "import rdlib.rdlib8 as rd\n",
    "import matplotlib.pyplot as plt\n",
    "icons = rd.loadPkl('res/picdic.pkl')\n",
    "def showicon(name):\n",
    "    plt.figure(dpi=16)\n",
    "    rd.plotimg(icons[name])"
   ]
  },
  {
   "cell_type": "code",
   "execution_count": 2,
   "metadata": {},
   "outputs": [
    {
     "data": {
      "image/png": "[encoded data removed]",
      "text/plain": [
       "<Figure size 96x64 with 1 Axes>"
      ]
     },
     "metadata": {
      "needs_background": "light"
     },
     "output_type": "display_data"
    }
   ],
   "source": [
    "showicon('frame')"
   ]
  },
  {
   "cell_type": "markdown",
   "metadata": {},
   "source": [
    "# 枠指定モード\n",
    "\n",
    "![枠指定](https://user-images.githubusercontent.com/24559785/75603541-3efd4980-5ac7-11ea-94a9-7a511bb49688.png)\n",
    "\n",
    "画像を読み込むと自動的に枠指定モードとなります。切り出したい対象物を囲む矩形の対角の２点を順に指定してください。  \n",
    "マウスを離したタイミングで位置を確定します。"
   ]
  },
  {
   "cell_type": "code",
   "execution_count": 3,
   "metadata": {},
   "outputs": [
    {
     "data": {
      "image/png": "[encoded data removed]",
      "text/plain": [
       "<Figure size 96x64 with 1 Axes>"
      ]
     },
     "metadata": {
      "needs_background": "light"
     },
     "output_type": "display_data"
    }
   ],
   "source": [
    "showicon('cut')"
   ]
  },
  {
   "cell_type": "markdown",
   "metadata": {},
   "source": [
    "# GrabCut の実行"
   ]
  },
  {
   "cell_type": "code",
   "execution_count": 4,
   "metadata": {},
   "outputs": [
    {
     "data": {
      "image/png": "[encoded data removed]",
      "text/plain": [
       "<Figure size 96x64 with 1 Axes>"
      ]
     },
     "metadata": {
      "needs_background": "light"
     },
     "output_type": "display_data"
    }
   ],
   "source": [
    "showicon('zero')"
   ]
  },
  {
   "cell_type": "markdown",
   "metadata": {},
   "source": [
    "# 背景指定モード\n",
    "\n",
    "このボタンを押してから、確実に背景画素である箇所をマウスで塗ってください。塗りつぶす必要はありません。\n",
    "\n",
    "![背景指定](https://user-images.githubusercontent.com/24559785/75624717-ab06ad00-5bae-11ea-9e93-cf42c9e42125.png)\n",
    "\n",
    "<div align='center'>\n",
    "↓　Cut\n",
    "</div>\n",
    "\n",
    "![背景指定](https://user-images.githubusercontent.com/24559785/75624718-ac37da00-5bae-11ea-8cee-2633247e1314.png)\n",
    "\n",
    "\n",
    "\n",
    "画像を読み込むと自動的に枠指定モードとなります。切り出したい対象物を囲む矩形の対角の２点を順に指定してください。\n",
    "マウスを離したタイミングで位置を確定します。"
   ]
  },
  {
   "cell_type": "code",
   "execution_count": 5,
   "metadata": {},
   "outputs": [
    {
     "data": {
      "image/png": "[encoded data removed]",
      "text/plain": [
       "<Figure size 96x64 with 1 Axes>"
      ]
     },
     "metadata": {
      "needs_background": "light"
     },
     "output_type": "display_data"
    }
   ],
   "source": [
    "showicon('one')"
   ]
  },
  {
   "cell_type": "markdown",
   "metadata": {},
   "source": [
    "# 前景指定モード\n",
    "\n",
    "このボタンを押してから、確実に前景画素である箇所をマウスで塗ってください。塗りつぶす必要はありません。\n",
    "\n",
    "![前景指定](https://user-images.githubusercontent.com/24559785/75624849-359bdc00-5bb0-11ea-8a52-1b2507a956f0.png)\n",
    "\n",
    "前景の場合も背景の場合も、描画しただけでは結果は変化しません。\n",
    "    \n",
    "指定が終わったら Cut のボタンを押してください。\n",
    "\n",
    "<div align='center'>\n",
    "↓　Cut\n",
    "</div>\n",
    "\n",
    "![前景指定2](https://user-images.githubusercontent.com/24559785/75624846-346aaf00-5bb0-11ea-8b41-9240758b9798.png)"
   ]
  },
  {
   "cell_type": "code",
   "execution_count": 6,
   "metadata": {},
   "outputs": [
    {
     "data": {
      "image/png": "[encoded data removed]",
      "text/plain": [
       "<Figure size 96x64 with 1 Axes>"
      ]
     },
     "metadata": {
      "needs_background": "light"
     },
     "output_type": "display_data"
    }
   ],
   "source": [
    "showicon('eraser')"
   ]
  },
  {
   "cell_type": "markdown",
   "metadata": {},
   "source": [
    "# 戻す\n",
    "\n",
    "直前の描画や枠指定位置をなかったことにして、元に戻します。\n",
    "\n",
    "\n",
    "<font size='60' color = \"blue\"> AC</font>\n",
    "\n",
    "# オールクリア\n",
    "\n",
    "すべての操作をリセットして画像読み込み直後に戻します。"
   ]
  },
  {
   "cell_type": "code",
   "execution_count": 7,
   "metadata": {},
   "outputs": [
    {
     "data": {
      "image/png": "[encoded data removed]",
      "text/plain": [
       "<Figure size 96x64 with 1 Axes>"
      ]
     },
     "metadata": {
      "needs_background": "light"
     },
     "output_type": "display_data"
    }
   ],
   "source": [
    "showicon('rot90') "
   ]
  },
  {
   "cell_type": "code",
   "execution_count": 8,
   "metadata": {},
   "outputs": [
    {
     "data": {
      "image/png": "[encoded data removed]",
      "text/plain": [
       "<Figure size 96x64 with 1 Axes>"
      ]
     },
     "metadata": {
      "needs_background": "light"
     },
     "output_type": "display_data"
    }
   ],
   "source": [
    "showicon(\"rot270\")"
   ]
  },
  {
   "cell_type": "markdown",
   "metadata": {},
   "source": [
    "# 90度回転\n",
    "\n",
    "画像を指定方向に90度回転させます。"
   ]
  },
  {
   "cell_type": "code",
   "execution_count": 9,
   "metadata": {},
   "outputs": [
    {
     "data": {
      "image/png": "[encoded data removed]",
      "text/plain": [
       "<Figure size 96x64 with 1 Axes>"
      ]
     },
     "metadata": {
      "needs_background": "light"
     },
     "output_type": "display_data"
    }
   ],
   "source": [
    "showicon('plus') "
   ]
  },
  {
   "cell_type": "code",
   "execution_count": 10,
   "metadata": {},
   "outputs": [
    {
     "data": {
      "image/png": "[encoded data removed]",
      "text/plain": [
       "<Figure size 96x64 with 1 Axes>"
      ]
     },
     "metadata": {
      "needs_background": "light"
     },
     "output_type": "display_data"
    }
   ],
   "source": [
    "showicon('minus') "
   ]
  },
  {
   "cell_type": "markdown",
   "metadata": {},
   "source": [
    "# ペン先の太さの増減\n",
    "\n",
    "\n",
    "前景・背景指定の際のペン先の太さを増減させることができます。\n",
    "\n",
    "<br><br>\n",
    "\n",
    "<font size='60' color = \"blue\"> RF </font>\n",
    "# リフォームモードのトグルスイッチ\n",
    "\n",
    "ON --> GrabCut の出力のうち、最大白領域の輪郭線を平滑化して塗りつぶしたものを結果とします。  \n",
    "OFF --> GrabCut の素の出力を結果とします。\n",
    "\n",
    "このボタンを押すと Cut ボタンを押した時と同じGrabCut の計算を１回実行しますので、シルエットが変化します。"
   ]
  },
  {
   "cell_type": "markdown",
   "metadata": {},
   "source": [
    "# 補足事項\n",
    "\n",
    "## 入力画像について\n",
    "\n",
    "\n",
    "```\n",
    "MAXHIGHT = 640 # 高さがこのサイズを超える画像は強制的にこのサイズ以下になるよう1/2,1/4にリサイズします\n",
    "```\n",
    "- 画像の高さが MAXHIGHT を超えている場合、読み込み時に縦の高さが MAXHIGHT となるようにリサイズして表示されます。\n",
    "- 枠切り出し後は、1:1 表示となります。切り出し後の画像の高さが画面サイズより大きくなるとボタンを押せなくなります。  \n",
    "現実問題として、解像度が高すぎると非常に計算時間がかかってしまいますので、あらかじめ画像を小さくリサイズしておくべきです。\n",
    "\n",
    "\n",
    "## 出力画像について\n",
    "- 保存されるのはシルエットのみです。\n",
    "- 保存されるシルエットは元の画像上でのシルエットとなります。つまり画像サイズは原画像と同じになります。\n",
    "- 保存時に、ファイル名、矩形の左上頂点座標と矩形のサイズがターミナル上に次の例のように表示されます。\n",
    "\n",
    "（例）\n",
    "\n",
    "```\n",
    "Write Image /Users/dan/Documents/GitHub/test.png (x:25,y;806),(w:424,h:418))\n",
    "```\n",
    "\n",
    "## 多国語対応について\n",
    "\n",
    "\n",
    "メニューやメッセージは日本語となっていますが、そのリソースはプログラムコードの上の方に次のようにまとめてあります。\n",
    "\n",
    "```\n",
    "GRC_RES ={\n",
    "'OpenImage':'File メニューで画像を開いてください',\n",
    "'TopLeft':'対象を枠で囲み指定します。左上の点を指定してください',\n",
    "'BottomRight':'対象を枠で囲み指定します。右下の点を指定してください',\n",
    "'Confirm':'選択できたらCutボタンを押してください',\n",
    "'OnCutting':'カット中です。しばらくお待ちください',\n",
    "'Finished':'満足できるまで何度かCutをクリック or 1234でヒント情報を追加してCut',\n",
    "'Marking0':'Mark sure BG 確実に背景となる領域をマーク',\n",
    "'Marking1':'Mark sure FG 確実に対象である領域をマーク',\n",
    "'ChangeThickness':'輪郭線の線の太さが変更。次の描画の際に反映されます'\n",
    "}\n",
    "\n",
    "FILEMENUS = {'Open':\"開く\",'Save':\"保存\",'ScreenShot':\"スクリーンショット\",'Quit':\"終了\"}\n",
    "PREFMENUS = {'ToggleSave':\"保存対象:orig\",'ToggleThickness':\"描線の太さ:1\"}\n",
    "```\n",
    "\n",
    "他の言語表示にしたければ、この部分を書き換えてください。"
   ]
  },
  {
   "cell_type": "code",
   "execution_count": null,
   "metadata": {},
   "outputs": [],
   "source": []
  }
 ],
 "metadata": {
  "colab": {
   "authorship_tag": "ABX9TyOGov2U9DU4OHnd1jvvWWQP",
   "include_colab_link": true,
   "name": "iGrabIt",
   "provenance": []
  },
  "kernelspec": {
   "display_name": "Python 3 (ipykernel)",
   "language": "python",
   "name": "python3"
  },
  "language_info": {
   "codemirror_mode": {
    "name": "ipython",
    "version": 3
   },
   "file_extension": ".py",
   "mimetype": "text/x-python",
   "name": "python",
   "nbconvert_exporter": "python",
   "pygments_lexer": "ipython3",
   "version": "3.9.7"
  }
 },
 "nbformat": 4,
 "nbformat_minor": 4
}
