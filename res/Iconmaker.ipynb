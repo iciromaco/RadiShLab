{
 "cells": [
  {
   "cell_type": "markdown",
   "metadata": {},
   "source": [
    "# Memo\n",
    "- ボタンに使っているアイコンは  [Piskel](https://www.piskelapp.com/)というツールで作成した。\n"
   ]
  },
  {
   "cell_type": "code",
   "execution_count": 1,
   "metadata": {},
   "outputs": [],
   "source": [
    "import os,sys\n",
    "import cairosvg\n",
    "import cv2\n",
    "import numpy as np\n",
    "import matplotlib.pyplot as plt\n",
    "from PIL import Image\n",
    "from IPython import display\n",
    "sys.path.append('..')\n",
    "import rdlib4 as rd\n",
    "\n",
    "\n",
    "def buildThumbnail(filename):\n",
    "    (base, ext) = os.path.splitext(filename)\n",
    "    if (ext == '.svg'):\n",
    "        png = filename + '.png'\n",
    "        if os.path.exists(filename):\n",
    "            f = open(filename, 'r')\n",
    "            fout = open(png, 'wb')\n",
    "            cairosvg.svg2png(file_obj = f, write_to = fout, dpi = 19)\n",
    "            f.close()\n",
    "            fout.close()\n",
    "        return(png)\n",
    "    return(None)"
   ]
  },
  {
   "cell_type": "code",
   "execution_count": 2,
   "metadata": {},
   "outputs": [
    {
     "data": {
      "image/png": "[encoded data removed]",
      "text/plain": [
       "<Figure size 1200x800 with 1 Axes>"
      ]
     },
     "metadata": {
      "needs_background": "light"
     },
     "output_type": "display_data"
    }
   ],
   "source": [
    "# 指定フォルダ内の画像を収集\n",
    "DATAFOLDER = './picdicpics'\n",
    "imgs = rd.collectimages(DATAFOLDER)\n",
    "plt.figure(dpi=200)\n",
    "rd.plotimg(rd.mkparaimage([img[:,:,:3] for img in imgs]))"
   ]
  },
  {
   "cell_type": "code",
   "execution_count": 3,
   "metadata": {},
   "outputs": [],
   "source": [
    "picnames=['rot270','rot90','left','right','crop','cut','eraser','file','frame','minus','one','pen','plus','three','two','zero']\n",
    "picdiclist = {picname:img for picname,img in zip(picnames,imgs)}"
   ]
  },
  {
   "cell_type": "code",
   "execution_count": 4,
   "metadata": {},
   "outputs": [],
   "source": [
    "rd.storePkl(picdiclist,'picdic.pkl')"
   ]
  },
  {
   "cell_type": "code",
   "execution_count": 5,
   "metadata": {},
   "outputs": [
    {
     "data": {
      "image/png": "[encoded data removed]",
      "text/plain": [
       "<Figure size 432x288 with 1 Axes>"
      ]
     },
     "metadata": {
      "needs_background": "light"
     },
     "output_type": "display_data"
    }
   ],
   "source": [
    "# 確認\n",
    "abc = rd.loadPkl('picdic.pkl')\n",
    "rd.plotimg(rd.mkparaimage([abc[key][:,:,:3] for key in abc]))"
   ]
  },
  {
   "cell_type": "code",
   "execution_count": 6,
   "metadata": {
    "scrolled": true
   },
   "outputs": [
    {
     "data": {
      "image/png": "[encoded data removed]",
      "text/plain": [
       "<Figure size 432x288 with 1 Axes>"
      ]
     },
     "metadata": {
      "needs_background": "light"
     },
     "output_type": "display_data"
    }
   ],
   "source": [
    "rd.plotimg(abc['eraser'])"
   ]
  },
  {
   "cell_type": "code",
   "execution_count": 7,
   "metadata": {},
   "outputs": [
    {
     "data": {
      "text/plain": [
       "<matplotlib.image.AxesImage at 0x1b65cff6a88>"
      ]
     },
     "execution_count": 7,
     "metadata": {},
     "output_type": "execute_result"
    },
    {
     "data": {
      "image/png": "[encoded data removed]",
      "text/plain": [
       "<Figure size 432x288 with 1 Axes>"
      ]
     },
     "metadata": {
      "needs_background": "light"
     },
     "output_type": "display_data"
    }
   ],
   "source": [
    "plt.imshow(abc['cut'][:,:,:3][:,:,::-1])"
   ]
  },
  {
   "cell_type": "code",
   "execution_count": null,
   "metadata": {},
   "outputs": [],
   "source": []
  }
 ],
 "metadata": {
  "kernelspec": {
   "display_name": "Python 3.7.6 64-bit ('RL': conda)",
   "language": "python",
   "name": "python37664bitrlcondafe0bd5a72bf04f4bbe3ff8d60fdfe6c8"
  },
  "language_info": {
   "codemirror_mode": {
    "name": "ipython",
    "version": 3
   },
   "file_extension": ".py",
   "mimetype": "text/x-python",
   "name": "python",
   "nbconvert_exporter": "python",
   "pygments_lexer": "ipython3",
   "version": "3.7.6"
  }
 },
 "nbformat": 4,
 "nbformat_minor": 4
}
