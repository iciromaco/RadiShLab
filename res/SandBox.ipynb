{
 "cells": [
  {
   "cell_type": "code",
   "execution_count": 1,
   "metadata": {},
   "outputs": [],
   "source": [
    "import os\n",
    "import cairosvg\n",
    "def buildThumbnail(filename):\n",
    "    (base, ext) = os.path.splitext(filename)\n",
    "    if (ext == '.svg'):\n",
    "        png = filename + '.png'\n",
    "        if os.path.exists(filename):\n",
    "            f = open(filename, 'r')\n",
    "            fout = open(png, 'wb')\n",
    "            cairosvg.svg2png(file_obj = f, write_to = fout, dpi = 19)\n",
    "            f.close()\n",
    "            fout.close()\n",
    "        return(png)\n",
    "    return(None)"
   ]
  },
  {
   "cell_type": "code",
   "execution_count": 10,
   "metadata": {},
   "outputs": [
    {
     "data": {
      "text/plain": [
       "'arrow-curve-left.svg.png'"
      ]
     },
     "execution_count": 10,
     "metadata": {},
     "output_type": "execute_result"
    }
   ],
   "source": [
    "buildThumbnail(\"arrow-curve-left.svg\")"
   ]
  },
  {
   "cell_type": "code",
   "execution_count": 71,
   "metadata": {},
   "outputs": [],
   "source": [
    "import cv2\n",
    "import numpy as np\n",
    "import matplotlib.pyplot as plt\n",
    "from PIL import Image\n",
    "from IPython import display\n",
    "import rdlib4 as rd"
   ]
  },
  {
   "cell_type": "code",
   "execution_count": 72,
   "metadata": {},
   "outputs": [],
   "source": [
    "DATAFOLDER = '.'"
   ]
  },
  {
   "cell_type": "code",
   "execution_count": 132,
   "metadata": {},
   "outputs": [
    {
     "data": {
      "text/plain": [
       "['.\\\\90minus.png',\n",
       " '.\\\\90plus.png',\n",
       " '.\\\\carrow-left.png',\n",
       " '.\\\\carrow-right.png',\n",
       " '.\\\\crop.png',\n",
       " '.\\\\file.png',\n",
       " '.\\\\framebgr.png',\n",
       " '.\\\\minus.png',\n",
       " '.\\\\one.png',\n",
       " '.\\\\pen.png',\n",
       " '.\\\\plus.png',\n",
       " '.\\\\three.png',\n",
       " '.\\\\two.png',\n",
       " '.\\\\zero.png']"
      ]
     },
     "execution_count": 132,
     "metadata": {},
     "output_type": "execute_result"
    }
   ],
   "source": [
    "# 指定フォルダ内の画像のパス名を収集し、３つ目まで表示\n",
    "imgfiles = rd.collectimagepaths(DATAFOLDER)\n",
    "imgfiles"
   ]
  },
  {
   "cell_type": "code",
   "execution_count": 133,
   "metadata": {},
   "outputs": [],
   "source": [
    "# 指定フォルダ内の画像を収集\n",
    "imgs = rd.collectimages(DATAFOLDER)"
   ]
  },
  {
   "cell_type": "code",
   "execution_count": 134,
   "metadata": {},
   "outputs": [
    {
     "data": {
      "image/png": "[encoded data removed]",
      "text/plain": [
       "<PIL.Image.Image image mode=RGB size=500x300 at 0x196785741C8>"
      ]
     },
     "execution_count": 134,
     "metadata": {},
     "output_type": "execute_result"
    }
   ],
   "source": [
    "rd.makethumbnail(DATAFOLDER)"
   ]
  },
  {
   "cell_type": "code",
   "execution_count": 135,
   "metadata": {},
   "outputs": [],
   "source": [
    "imgs = []\n",
    "for files in imgfiles:\n",
    "    img = cv2.imread(files,-1)\n",
    "    img = cv2.resize(img,(32,32))\n",
    "    imgs.append(img)"
   ]
  },
  {
   "cell_type": "code",
   "execution_count": 136,
   "metadata": {},
   "outputs": [
    {
     "data": {
      "image/png": "[encoded data removed]",
      "text/plain": [
       "<Figure size 1200x800 with 1 Axes>"
      ]
     },
     "metadata": {
      "needs_background": "light"
     },
     "output_type": "display_data"
    }
   ],
   "source": [
    "plt.figure(dpi=200)\n",
    "rd.plotimg(rd.mkparaimage([img[:,:,:3] for img in imgs]))"
   ]
  },
  {
   "cell_type": "code",
   "execution_count": 137,
   "metadata": {},
   "outputs": [
    {
     "data": {
      "text/plain": [
       "14"
      ]
     },
     "execution_count": 137,
     "metadata": {},
     "output_type": "execute_result"
    }
   ],
   "source": [
    "len([img for img in imgs])"
   ]
  },
  {
   "cell_type": "code",
   "execution_count": 138,
   "metadata": {},
   "outputs": [],
   "source": [
    "picnames=['rot270','rot90','left','right','crop','file','frame','minus','one','pen','plus','three','two','zero']"
   ]
  },
  {
   "cell_type": "code",
   "execution_count": 139,
   "metadata": {},
   "outputs": [
    {
     "data": {
      "text/plain": [
       "['rot270',\n",
       " 'rot90',\n",
       " 'left',\n",
       " 'right',\n",
       " 'crop',\n",
       " 'file',\n",
       " 'frame',\n",
       " 'minus',\n",
       " 'one',\n",
       " 'pen',\n",
       " 'plus',\n",
       " 'three',\n",
       " 'two',\n",
       " 'zero']"
      ]
     },
     "execution_count": 139,
     "metadata": {},
     "output_type": "execute_result"
    }
   ],
   "source": [
    "picnames"
   ]
  },
  {
   "cell_type": "code",
   "execution_count": 141,
   "metadata": {},
   "outputs": [],
   "source": [
    "picdiclist = {picname:img for picname,img in zip(picnames,imgs)}"
   ]
  },
  {
   "cell_type": "code",
   "execution_count": 143,
   "metadata": {},
   "outputs": [],
   "source": [
    "picdic = picdiclist"
   ]
  },
  {
   "cell_type": "code",
   "execution_count": 156,
   "metadata": {},
   "outputs": [
    {
     "data": {
      "image/png": "[encoded data removed]",
      "text/plain": [
       "<Figure size 432x288 with 1 Axes>"
      ]
     },
     "metadata": {
      "needs_background": "light"
     },
     "output_type": "display_data"
    }
   ],
   "source": []
  },
  {
   "cell_type": "code",
   "execution_count": null,
   "metadata": {},
   "outputs": [],
   "source": []
  }
 ],
 "metadata": {
  "kernelspec": {
   "display_name": "Python 3.7.6 64-bit ('RL': conda)",
   "language": "python",
   "name": "python37664bitrlcondafe0bd5a72bf04f4bbe3ff8d60fdfe6c8"
  },
  "language_info": {
   "codemirror_mode": {
    "name": "ipython",
    "version": 3
   },
   "file_extension": ".py",
   "mimetype": "text/x-python",
   "name": "python",
   "nbconvert_exporter": "python",
   "pygments_lexer": "ipython3",
   "version": "3.7.6"
  }
 },
 "nbformat": 4,
 "nbformat_minor": 4
}
