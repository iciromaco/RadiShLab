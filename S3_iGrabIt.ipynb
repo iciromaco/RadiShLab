{
 "cells": [
  {
   "cell_type": "markdown",
   "metadata": {
    "colab_type": "text",
    "id": "view-in-github"
   },
   "source": [
    "<a href=\"https://colab.research.google.com/github/iciromaco/RadiShLab/blob/master/S3_iGrabIt.ipynb\" target=\"_parent\"><img src=\"https://colab.research.google.com/assets/colab-badge.svg\" alt=\"Open In Colab\"/></a>"
   ]
  },
  {
   "cell_type": "markdown",
   "metadata": {
    "colab_type": "text",
    "id": "u329GWDu8BZH"
   },
   "source": [
    "\n",
    "# iGrabIt \n",
    "\n",
    "プログラム名 iGrabit.py\n",
    "\n",
    "OpenCV のGrabCutという関数を用いて画像の前景領域を抽出するためのツールです。\n",
    "\n",
    "<div align=\"center\">\n",
    "<img src=\"https://user-images.githubusercontent.com/24559785/75554908-28a5ae00-5a33-11ea-9b1e-ce737aa6d440.gif\" width=512 align='center'> </img>\n",
    "</div>\n",
    "\n",
    "(参考) [GrabCutを使った対話的前景領域抽出](http://labs.eecs.tottori-u.ac.jp/sd/Member/oyamada/OpenCV/html/py_tutorials/py_imgproc/py_grabcut/py_grabcut.html)\n"
   ]
  },
  {
   "cell_type": "markdown",
   "metadata": {
    "colab_type": "text",
    "id": "JyG74IzI72Dq"
   },
   "source": [
    "このプログラムはGUIの実現に kivy を用いました。kivyは Google Colaboratory と互換性がないようで、実行すると勝手に画面解像度が変わってしまい、うまくできません。またローカルで実行する場合も、 jupyter notebook 上で実行すると不具合がでるようです。\n",
    "\n",
    "jupyter notebook 上の起動でも、!起動であれは大丈夫です。"
   ]
  },
  {
   "cell_type": "markdown",
   "metadata": {
    "colab_type": "text",
    "id": "UwGBxbqQ9yUK"
   },
   "source": [
    "## プログラムの起動手順\n",
    "\n",
    "Anaconda Terminal 上で、次のコマンドを実行\n",
    "```\n",
    "python -m iGrabit\n",
    "```\n",
    "\n",
    "仮想環境RLを作っている場合は、コマンドを打ち込む前に、\n",
    "\n",
    "1. Anaconda Navigator を起動\n",
    "2. Environments \n",
    "3. RL 仮想環境から terminal を起動\n",
    "\n",
    "という手順が必要です。\n",
    "\n",
    "<img width=\"323\" alt=\"75362944-54992600-58b1-11ea-8f18-49bfb7838167\" src=\"https://user-images.githubusercontent.com/24559785/75363685-5fa08600-58b2-11ea-9a7d-b3fc8bce2600.png\" >\n",
    "\n",
    "最近の Windows版 Anaconda であれば、Startメニューに上の図のように、仮想環境のターミナルを起動するメニューができているはずなので、それを起動するのが簡単です。\n"
   ]
  },
  {
   "cell_type": "markdown",
   "metadata": {},
   "source": [
    "# 使用方法\n",
    "## File メニュー\n",
    "次の３つしかメニュー項目はないので、説明は不要だと思います。\n",
    "- Open\n",
    "- Save\n",
    "- Quit\n",
    "\n",
    "Quit メニューを使わなくても、ウィンドウの閉じるボタンで終了させても構いません。\n",
    "\n",
    "もしもウィンドウがフリーズしてしまったら、terminal の方で、Control+C を使って強制終了させてください。"
   ]
  },
  {
   "cell_type": "markdown",
   "metadata": {},
   "source": [
    "## 切り出しの手順\n",
    "1. 切り出し枠の指定\n",
    "> 切り出したいオブジェクトを囲むように対角の２点を指定してください。座標はマウスボタンのリリース時に確定となる方式です。\n",
    "2. GrabCut のリトライ\n",
    "> 指定した枠で画像が切り取られると同時に GrabCut が実行されます。Cutボタンを押すと切り出し境界が変化します。何度か押してみてきれいに切り出せたらそれでOK。\n",
    "3. ヒント情報を与えた上でカット\n",
    "> 結果に満足がいかない場合は、ヒント情報を与えてください。  \n",
    "> 0 ボタンを押し、確実に背景である画素を指定   \n",
    "> 1 ボタンを押し、確実に前景である画素を指定\n",
    "\n",
    "Cutを試みるたびに境界線の位置が変化するのは、GrabCutが一種の漸近的最適化アルゴリズムだからです。そのようなアルゴリズムは一定の収束条件のもとに計算を打ち切って結果としています。境界が鮮明で曖昧性がなければすぐに収束するので繰り返しを追加しても変化は起こりませんが、そうでない場合は変化していき、場合によっては振動します。\n",
    "[(参考)](http://visitlab.jp/pdf/GrabCut.pdf)"
   ]
  },
  {
   "cell_type": "code",
   "execution_count": null,
   "metadata": {},
   "outputs": [],
   "source": []
  },
  {
   "cell_type": "code",
   "execution_count": null,
   "metadata": {},
   "outputs": [],
   "source": []
  }
 ],
 "metadata": {
  "colab": {
   "authorship_tag": "ABX9TyOGov2U9DU4OHnd1jvvWWQP",
   "include_colab_link": true,
   "name": "iGrabIt",
   "provenance": []
  },
  "kernelspec": {
   "display_name": "Python 3",
   "language": "python",
   "name": "python3"
  },
  "language_info": {
   "codemirror_mode": {
    "name": "ipython",
    "version": 3
   },
   "file_extension": ".py",
   "mimetype": "text/x-python",
   "name": "python",
   "nbconvert_exporter": "python",
   "pygments_lexer": "ipython3",
   "version": "3.7.6"
  }
 },
 "nbformat": 4,
 "nbformat_minor": 1
}
