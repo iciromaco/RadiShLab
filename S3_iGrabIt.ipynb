{
  "nbformat": 4,
  "nbformat_minor": 0,
  "metadata": {
    "colab": {
      "name": "iGrabIt",
      "provenance": [],
      "authorship_tag": "ABX9TyOGov2U9DU4OHnd1jvvWWQP",
      "include_colab_link": true
    },
    "kernelspec": {
      "name": "python3",
      "display_name": "Python 3"
    }
  },
  "cells": [
    {
      "cell_type": "markdown",
      "metadata": {
        "id": "view-in-github",
        "colab_type": "text"
      },
      "source": [
        "<a href=\"https://colab.research.google.com/github/iciromaco/RadiShLab/blob/master/S3_iGrabIt.ipynb\" target=\"_parent\"><img src=\"https://colab.research.google.com/assets/colab-badge.svg\" alt=\"Open In Colab\"/></a>"
      ]
    },
    {
      "cell_type": "markdown",
      "metadata": {
        "id": "u329GWDu8BZH",
        "colab_type": "text"
      },
      "source": [
        "\n",
        "# iGrabIt \n",
        "\n",
        "プログラム名 iGrabit.py\n",
        "\n",
        "OpenCV のGrabCutという関数を用いて画像の前景領域を抽出するためのツールです。\n",
        "\n",
        "(参考) [GrabCutを使った対話的前景領域抽出](http://labs.eecs.tottori-u.ac.jp/sd/Member/oyamada/OpenCV/html/py_tutorials/py_imgproc/py_grabcut/py_grabcut.html)\n"
      ]
    },
    {
      "cell_type": "markdown",
      "metadata": {
        "id": "JyG74IzI72Dq",
        "colab_type": "text"
      },
      "source": [
        "このプログラムはGUIの実現に kivy を用いました。kivyは Google Colaboratory と互換性がないようで、実行すると勝手に画面解像度が変わってしまい、うまくできません。またローカルで実行する場合も、 jupyter notebook 上で実行すると不具合がでるようです。\n",
        "\n",
        "jupyter notebook 上の起動でも、!起動であれは大丈夫です。"
      ]
    },
    {
      "cell_type": "markdown",
      "metadata": {
        "id": "UwGBxbqQ9yUK",
        "colab_type": "text"
      },
      "source": [
        "## 実行手順\n",
        "\n",
        "1. Anaconda Navigator を起動\n",
        "2. Environments \n",
        "3. RL 仮想環境から terminal を起動\n",
        "4. 次のコマンドを実行\n",
        "```\n",
        "python -m iGrabit\n",
        "```\n",
        "このノートブックがローカルランタイムで起動されているなら次のセルを実行しても同じです。\n",
        "\n",
        "<img width=\"323\" alt=\"75362944-54992600-58b1-11ea-8f18-49bfb7838167\" src=\"https://user-images.githubusercontent.com/24559785/75363685-5fa08600-58b2-11ea-9a7d-b3fc8bce2600.png\" >\n",
        "\n",
        "最近の Windows版 Anaconda であれば、Startメニューに上の図のように、仮想環境のターミナルを起動するメニューができているはずなので、それを起動するのが簡単です。\n",
        "\n"
      ]
    },
    {
      "cell_type": "code",
      "metadata": {
        "id": "kNv-ZwRUFu_q",
        "colab_type": "code",
        "colab": {}
      },
      "source": [
        ""
      ],
      "execution_count": 0,
      "outputs": []
    }
  ]
}