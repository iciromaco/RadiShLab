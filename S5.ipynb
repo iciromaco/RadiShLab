{
 "cells": [
  {
   "cell_type": "code",
   "execution_count": 1,
   "metadata": {},
   "outputs": [],
   "source": [
    "import sys,os\n",
    "import numpy as np\n",
    "import matplotlib.pyplot as plt\n",
    "import cv2\n",
    "\n",
    "# Google Colaboratory の MyDrive パス\n",
    "COLABRDROOT = \"/content/drive/My Drive/RadishLab\"\n",
    "# ホーム\n",
    "LOCALHOME = \".\"  # フォルダを絶対指定するならここを書き変えてください\n",
    "\n",
    "# 環境判定（Google Colaboratory かどうかの判定）\n",
    "try:\n",
    "    from google.colab import drive\n",
    "    drive.mount('/content/drive')\n",
    "    sys.path.append(COLABROOT)\n",
    "    COLABORATORY = True\n",
    "except ImportError:\n",
    "    COLABORATORY = False\n",
    "    sys.path.append('./rdlib')\n",
    "import rdlib.rdlib4 as rd\n",
    "\n",
    "# フォルダ指定\n",
    "labhome = COLABRDROOT if COLABORATORY else LOCALHOME"
   ]
  },
  {
   "cell_type": "code",
   "execution_count": null,
   "metadata": {},
   "outputs": [],
   "source": [
    "cv2.goodFeaturesToTrack()\n",
    "gray = cv2.cvtColor(img[0],cv2.COLOR_BGR2GRAY)\n",
    "\n",
    "corners = cv2.goodFeaturesToTrack(gray,25,0.01,10)\n",
    "corners = np.int0(corners)\n",
    "\n",
    "for i in corners:\n",
    "    x,y = i.ravel()\n",
    "    cv2.circle(img,(x,y),3,255,-1)\n",
    "\n",
    "plt.imshow(img),plt.show()"
   ]
  }
 ],
 "metadata": {
  "kernelspec": {
   "display_name": "Python 3",
   "language": "python",
   "name": "python3"
  },
  "language_info": {
   "codemirror_mode": {
    "name": "ipython",
    "version": 3
   },
   "file_extension": ".py",
   "mimetype": "text/x-python",
   "name": "python",
   "nbconvert_exporter": "python",
   "pygments_lexer": "ipython3",
   "version": "3.7.6"
  }
 },
 "nbformat": 4,
 "nbformat_minor": 4
}
