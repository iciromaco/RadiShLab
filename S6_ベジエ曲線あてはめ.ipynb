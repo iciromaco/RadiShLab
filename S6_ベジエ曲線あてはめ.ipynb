{
 "cells": [
  {
   "cell_type": "code",
   "execution_count": 1,
   "metadata": {},
   "outputs": [],
   "source": [
    "import sys,os\n",
    "import numpy as np\n",
    "import matplotlib.pyplot as plt\n",
    "import cv2\n",
    "import rdlib.rdlib4 as rd\n",
    "\n",
    "# from sympy import *\n",
    "from sympy import diff,Symbol,Matrix,symbols,solve,simplify,binomial\n",
    "from sympy.abc import a,b,c\n",
    "# init_session()\n",
    "from sympy import var\n",
    "px,py =var('px:4'),var('py:4')\n",
    "\n",
    "# Google Colaboratory の MyDrive パス\n",
    "COLABRDROOT = \"/content/drive/My Drive/RadiShLab\"\n",
    "\n",
    "# ホーム\n",
    "LOCALHOME = \".\"  # フォルダを絶対指定するならここを書き変えてください\n",
    "\n",
    "\n",
    "# 環境判定（Google Colaboratory かどうかの判定）\n",
    "try:\n",
    "    from google.colab import drive\n",
    "    drive.mount('/content/drive')\n",
    "    sys.path.append(COLABRDROOT+'/rdlib')\n",
    "    COLABORATORY = True\n",
    "except ImportError:\n",
    "    sys.path.append('./rdlib')\n",
    "    COLABORATORY = False\n",
    "import rdlib4 as rd\n",
    "\n",
    "# フォルダ指定\n",
    "labhome = COLABRDROOT if COLABORATORY else LOCALHOME\n",
    "\n",
    "\n",
    "NSilF = './RDSamples/NSilImages' # 正規化されたシルエット画像のフォルダ\n",
    "imgs = rd.collectimages(NSilF)       # シルエット画像のリスト"
   ]
  },
  {
   "cell_type": "code",
   "execution_count": 5,
   "metadata": {
    "scrolled": true
   },
   "outputs": [
    {
     "name": "stdout",
     "output_type": "stream",
     "text": [
      "輪郭線の画素数は、左 303  右294\n"
     ]
    },
    {
     "data": {
      "image/png": "[encoded data removed]",
      "text/plain": [
       "<Figure size 600x400 with 1 Axes>"
      ]
     },
     "metadata": {
      "needs_background": "light"
     },
     "output_type": "display_data"
    }
   ],
   "source": [
    "# 画像の左右の輪郭線を抽出　（S5参照）\n",
    "img = imgs[4]\n",
    "conLeft,conRight = rd.getCntPairWithImg(img)\n",
    "canvas = cv2.cvtColor(np.zeros_like(img) ,cv2.COLOR_GRAY2BGR)\n",
    "rd.drawContours(canvas,conLeft,color=(0,255,0),thickness=2)\n",
    "rd.drawContours(canvas,conRight,color=(0,255,255),thickness=2)\n",
    "plt.figure(dpi=100)\n",
    "rd.plotimg(canvas)\n",
    "print(\"輪郭線の画素数は、左 {}  右{}\".format(len(conLeft),len(conRight)))"
   ]
  },
  {
   "cell_type": "markdown",
   "metadata": {},
   "source": [
    "輪郭線を構成する画素の数は、この例で左右それぞれ300画素近い。\n",
    "\n",
    "## getSamples()\n",
    "> rd.getSamples(cont,N=20,mode='Equidistant')\n",
    "    # 入力\n",
    "    # 　cont 輪郭線構造体 開いた輪郭線を想定している\n",
    "    # 　N サンプル数\n",
    "    # パラメータ\n",
    "    #　 mode = 'Equidistant'なら始点からの距離について等間隔 (default)\n",
    "    # 　mode = 'Simple' なら単純にインデックスを等間隔\n",
    "\n",
    "ディジタル画像は斜め方向と上下左右とで画素間の距離が異なるので、単純にインデックスを等間隔に刻むと、輪郭が斜めになっている部分と縦横に伸びている部分とでサンプリング間隔が変化してしまう。\n",
    "\n",
    "曲線あてはめにはそれほど影響しないが、気にする場合は Equidistantを用いるとよい。"
   ]
  },
  {
   "cell_type": "code",
   "execution_count": 23,
   "metadata": {},
   "outputs": [
    {
     "data": {
      "image/png": "[encoded data removed]",
      "text/plain": [
       "<Figure size 500x500 with 1 Axes>"
      ]
     },
     "metadata": {
      "needs_background": "light"
     },
     "output_type": "display_data"
    }
   ],
   "source": [
    "Left = rd.getSamples(conLeft,N=30,mode='Equidistant')\n",
    "Right = rd.getSamples(conRight,N=30,mode='Simple')\n",
    "\n",
    "plt.figure(figsize=(5,5),dpi=100)\n",
    "g = plt.subplot()\n",
    "g.set_aspect('equal')\n",
    "plt.scatter(Left[:,0],-Left[:,1])\n",
    "plt.scatter(Right[:,0],-Right[:,1]);"
   ]
  },
  {
   "cell_type": "markdown",
   "metadata": {},
   "source": [
    "左が距離等間隔、右がインデックスの等間隔\n",
    "\n",
    "# ベジエ曲線のあてはめ\n",
    "\n",
    "## class BezierCurve:\n",
    "## BezierCurve()　（コンストラクタ）\n",
    "> rd.BezierCurve(samples, N=5, initialPara=[], openmode=False)\n",
    "    # 入力\n",
    "    #    samples   輪郭の標本\n",
    "    #    N  ベジエ曲線の次数\n",
    "    #    initialPara   サンプルに対するベジエ関数のパラメータの初期値\n",
    "    #      デフォルトは[]であり、その場合は初期値はリニアとなる\n",
    "    # パラメータ\n",
    "    #    openmode=False  # 端点を自由扱い　False のときは曲線の端点をサンプルの端点位置に一致させる\n",
    "    # 出力\n",
    "    #    BezierCurve のインスタンス\n",
    "    \n",
    "> bez = BezierCurve(con,N=5)\n",
    "    \n",
    "> bez.fit()  あてはめの実行\n",
    "\n",
    "> rd.BezierCurve.toggledebugmode()   デバッグ情報のオンオフ\n",
    "\n",
    "> rd.BezierCurve.setParameters(reset=False,precPara=0.1,errorThres=0.5,paraResolution = 0.001)  パラメータの表示とセット\n",
    "\n",
    "> クラス変数\n",
    "    # precPara = 0.1 # 繰り返しにおけるパラメータ変動幅の平均値に対するしきい値\n",
    "    # errorThres = 0.5 # 繰り返し打ち切りを決める、あてはめ誤差の平均値に対するしきい値\n",
    "    # paraResolution = 0.001 # サンプル点の最寄り点探索の解像度\n",
    "    \n",
    "\n",
    "# 実行例"
   ]
  },
  {
   "cell_type": "code",
   "execution_count": 25,
   "metadata": {},
   "outputs": [
    {
     "name": "stdout",
     "output_type": "stream",
     "text": [
      "precPara:        0.1\n",
      "errorThres:      0.5\n",
      "paraResolution:  0.001\n",
      "debugmode:       False\n",
      "\n"
     ]
    }
   ],
   "source": [
    "rd.BezierCurve.setParameters()"
   ]
  },
  {
   "cell_type": "code",
   "execution_count": 30,
   "metadata": {},
   "outputs": [
    {
     "name": "stdout",
     "output_type": "stream",
     "text": [
      "\n",
      "\n",
      "debugmode: False\n",
      ".......\n",
      ".......\n"
     ]
    }
   ],
   "source": [
    "cntL = rd.getSamples(conLeft,N=20)\n",
    "cntR = rd.getSamples(conRight,N=20)\n",
    "bezL =  rd.BezierCurve(cntL,N=6)\n",
    "bezR =  rd.BezierCurve(cntR,N=6)\n",
    "rd.BezierCurve.toggledebugmode() # デバッグモードの切り替え\n",
    "# BezierCurve.setParameters(precPara=1.0,errorThres=1.0)\n",
    "res,cpx,cpy,LbezresX,LbezresY,tpara = bezL.fit()\n",
    "res,cpx,cpy,RbezresX,RbezresY,tpara = bezR.fit()\n",
    "# BezierCurve.setParameters()"
   ]
  },
  {
   "cell_type": "markdown",
   "metadata": {},
   "source": [
    "# 結果の描画\n",
    "\n",
    "##  drawBez()\n",
    "> drawBez(rdimg,bezL=None,bezR=None,bezC=None,cpl=None,cpr=None,cpc=None, \n",
    "             cntL=[],cntR=[],cntC=None, ladder=None,PosL=[],PosR=[],PosC=[],n_samples=20,saveImage=False,savepath=\"\")\n",
    "             \n",
    "    # 入力\n",
    "    #    rdimg  シルエット画像\n",
    "    #    bezL,bezR,bezC   ベジエ曲線の定義式　3本まで描ける\n",
    "    #    cpl,cpr,cpc     ベジエ曲線の制御点\n",
    "    #    cntL,cntR,cntC  標本点\n",
    "    # パラメータ\n",
    "    #    ladder  標本点間を結ぶ線分を描画するかどうか\n",
    "    #    PosL,PosR.PosC ラダーの設置点\n",
    "    #    n_samples  ラダーの数\n",
    "    #    saveImage 画像を保存するかどうか\n",
    "    #    savepath ファイル名\n",
    "    "
   ]
  },
  {
   "cell_type": "code",
   "execution_count": 31,
   "metadata": {},
   "outputs": [
    {
     "data": {
      "image/png": "[encoded data removed]",
      "text/plain": [
       "<Figure size 600x600 with 1 Axes>"
      ]
     },
     "metadata": {
      "needs_background": "light"
     },
     "output_type": "display_data"
    }
   ],
   "source": [
    "rd.drawBez2(img,bezL=(LbezresX,LbezresY),bezR=(RbezresX,RbezresY))"
   ]
  },
  {
   "cell_type": "code",
   "execution_count": null,
   "metadata": {},
   "outputs": [],
   "source": []
  }
 ],
 "metadata": {
  "kernelspec": {
   "display_name": "Python 3",
   "language": "python",
   "name": "python3"
  },
  "language_info": {
   "codemirror_mode": {
    "name": "ipython",
    "version": 3
   },
   "file_extension": ".py",
   "mimetype": "text/x-python",
   "name": "python",
   "nbconvert_exporter": "python",
   "pygments_lexer": "ipython3",
   "version": "3.7.6"
  }
 },
 "nbformat": 4,
 "nbformat_minor": 4
}
