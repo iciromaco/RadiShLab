{
 "cells": [
  {
   "cell_type": "markdown",
   "metadata": {
    "colab_type": "text",
    "id": "view-in-github"
   },
   "source": [
    "<a href=\"https://colab.research.google.com/github/iciromaco/RadiShLab/blob/master/S6_%E3%83%99%E3%82%B8%E3%82%A8%E6%9B%B2%E7%B7%9A%E3%81%82%E3%81%A6%E3%81%AF%E3%82%81.ipynb\" target=\"_parent\"><img src=\"https://colab.research.google.com/assets/colab-badge.svg\" alt=\"Open In Colab\"/></a>"
   ]
  },
  {
   "cell_type": "markdown",
   "metadata": {},
   "source": [
    "# N006 ベジエ曲線のあてはめ"
   ]
  },
  {
   "cell_type": "code",
   "execution_count": 1,
   "metadata": {
    "colab": {
     "base_uri": "https://localhost:8080/",
     "height": 35
    },
    "colab_type": "code",
    "id": "9G9Wq6qK-LBN",
    "outputId": "c763be84-9167-412f-b4d2-d9b1f89624c4",
    "scrolled": false
   },
   "outputs": [],
   "source": [
    "import sys,os\n",
    "import numpy as np\n",
    "import matplotlib.pyplot as plt\n",
    "import cv2\n",
    "\n",
    "# from sympy import *\n",
    "from sympy import diff,Symbol,Matrix,symbols,solve,simplify,binomial\n",
    "from sympy.abc import a,b,c\n",
    "# init_session()\n",
    "from sympy import var\n",
    "# px,py =var('px:4'),var('py:4')\n",
    "\n",
    "# Google Colaboratory の MyDrive パス\n",
    "COLABRDROOT = \"/content/drive/My Drive/RadiShLab\"\n",
    "\n",
    "# ホーム\n",
    "LOCALHOME = \".\"  # フォルダを絶対指定するならここを書き変えてください\n",
    "\n",
    "# 環境判定（Google Colaboratory かどうかの判定）\n",
    "try:\n",
    "    from google.colab import drive\n",
    "    drive.mount('/content/drive')\n",
    "    sys.path.append(COLABRDROOT+'/rdlib')\n",
    "    COLABORATORY = True\n",
    "except ImportError:\n",
    "    sys.path.append('./rdlib')\n",
    "    COLABORATORY = False\n",
    "import rdlib4 as rd\n",
    "\n",
    "# フォルダ指定\n",
    "labhome = COLABRDROOT if COLABORATORY else LOCALHOME\n",
    "\n",
    "NSilF = labhome+'/RDSamples/NSilImages' # 正規化されたシルエット画像のフォルダ\n",
    "imgs = rd.collectimages(NSilF)       # シルエット画像のリスト"
   ]
  },
  {
   "cell_type": "code",
   "execution_count": 2,
   "metadata": {
    "colab": {
     "base_uri": "https://localhost:8080/",
     "height": 357
    },
    "colab_type": "code",
    "id": "kc_zoFAE-LBS",
    "outputId": "9eb797de-e02a-4dad-a0cb-55d2b75b7185",
    "scrolled": true
   },
   "outputs": [
    {
     "name": "stdout",
     "output_type": "stream",
     "text": [
      "輪郭線の画素数は、左 303  右294\n"
     ]
    },
    {
     "data": {
      "image/png": "[encoded data removed]",
      "text/plain": [
       "<Figure size 600x400 with 1 Axes>"
      ]
     },
     "metadata": {
      "needs_background": "light"
     },
     "output_type": "display_data"
    }
   ],
   "source": [
    "# 画像の左右の輪郭線を抽出　（S5参照）\n",
    "img = imgs[4]\n",
    "conLeft,conRight = rd.getCntPairWithImg(img)\n",
    "canvas = cv2.cvtColor(np.zeros_like(img) ,cv2.COLOR_GRAY2BGR)\n",
    "rd.drawContours(canvas,conLeft,color=(0,255,0),thickness=2)\n",
    "rd.drawContours(canvas,conRight,color=(0,255,255),thickness=2)\n",
    "plt.figure(dpi=100)\n",
    "rd.plotimg(canvas)\n",
    "print(\"輪郭線の画素数は、左 {}  右{}\".format(len(conLeft),len(conRight)))"
   ]
  },
  {
   "cell_type": "markdown",
   "metadata": {
    "colab_type": "text",
    "id": "-4JVj4ib-LBX"
   },
   "source": [
    "輪郭線を構成する画素の数は、この例で左右それぞれ300画素近い。\n",
    "\n",
    "## **getSamples()**\n",
    "> **rd.getSamples(cont,N=20,mode='Equidistant')**  \n",
    "    > 入力  \n",
    "    > 　**cont** 輪郭線構造体 開いた輪郭線を想定している  \n",
    "    > 　**N** サンプル数  \n",
    "    > パラメータ  \n",
    "    >　 **mode = 'Equidistant'**  始点からの距離について等間隔 (default)  \n",
    "    > 　**mode = 'Simple'**  単純にインデックスを等間隔\n",
    "\n",
    "ディジタル画像は斜め方向と上下左右とで画素間の距離が異なるので、単純にインデックスを等間隔に刻むと、輪郭が斜めになっている部分と縦横に伸びている部分とでサンプリング間隔が変化してしまう。\n",
    "\n",
    "曲線あてはめにはそれほど影響しないが、気にする場合は **Equidistant**を用いるとよい。"
   ]
  },
  {
   "cell_type": "code",
   "execution_count": 3,
   "metadata": {
    "colab": {
     "base_uri": "https://localhost:8080/",
     "height": 438
    },
    "colab_type": "code",
    "id": "e_4wW1pi-LBZ",
    "outputId": "bb50d912-b4e6-43e0-d51a-347e91d7ee5b"
   },
   "outputs": [
    {
     "data": {
      "image/png": "[encoded data removed]",
      "text/plain": [
       "<Figure size 500x500 with 1 Axes>"
      ]
     },
     "metadata": {
      "needs_background": "light"
     },
     "output_type": "display_data"
    }
   ],
   "source": [
    "Left = rd.getSamples(conLeft,N=30,mode='Equidistant')\n",
    "Right = rd.getSamples(conRight,N=30,mode='Simple')\n",
    "\n",
    "plt.figure(figsize=(5,5),dpi=100)\n",
    "g = plt.subplot()\n",
    "g.set_aspect('equal')\n",
    "plt.scatter(Left[:,0],-Left[:,1])\n",
    "plt.scatter(Right[:,0],-Right[:,1]);"
   ]
  },
  {
   "cell_type": "markdown",
   "metadata": {
    "colab_type": "text",
    "id": "UnVgayd8-LBd"
   },
   "source": [
    "左が距離等間隔、右がインデックスの等間隔\n",
    "\n",
    "# ベジエ曲線のあてはめ\n",
    "\n",
    "- 標本点 $samples[i]$ と同じ数だけの点をベジエ曲線上に設定し、たがいを紐づける。ベジエ曲線上の点$P[i]$はパラメータ $t[i]$ だけで特定される。つまり、$P[i]=Bez(t[i])$ と書ける。\n",
    "- 目的関数を$\\|samples[i]-Bez[t[i]]\\|$とし、これを最小化するような 関数$Bez()$を見つけることが目的である。\n",
    "- ベジエ曲線は$N+1$個の制御点で規定されるので、もし $t[i]$ が既知であるならば、未知数　$2(N+1)$個 の最適化問題である。しかし、実際には $t[i]$ はわからない。\n",
    "- 逆にベジエ曲線の制御点が分かっているならば、未知数は $t[i]$ であり、ベジエ曲線上で各標本点の最寄りの点を探す問題となる。\n",
    "- 実際にはいずれも未知であるのですべて連立させて最適化しないといけないが一度に求める解析的な方法はありそうにない。そこで、ここでは緩和法的なアルゴリズムを用いて解決する。\n",
    "\n",
    "### 漸近的ベジエフィッティングアルゴリズム\n",
    "\n",
    "> **fit0()**  \n",
    "> パラメータを固定して評価関数が最小化されるような制御点を求めることで、暫定的なベジエ近似曲線の表現式を得るプログラム   \n",
    "> **refineTparaN()**  \n",
    ">  暫定的なベジエ近似曲線に対し、各標本点に対して紐づけられていたパラメータの示す位置よりより近い曲線上の点のパラメータをサーチしてパラメータを再紐づけするプログラム。  \n",
    "> 標本点の間隔が広い場合はそれぞれの標本点から最短の点を見つけるというやり方でよいが、標本点が密になるとその方法では順序関係に矛盾が生じる可能性がある。そこで、前後の点に紐づいたパラメータ間で最も近い点のパラメータによりパラメータを更新する、という操作を一定回数繰り返す。\n",
    "\n",
    "> **fit1()**  fit0() と refineTparaN() を繰り返すことでフィッティングを行うプログラム。\n",
    "\n",
    "以上の関数を持つクラス、BezierCurve を用意した。\n",
    "\n",
    "---\n",
    "\n",
    "## class BezierCurve:\n",
    "> クラス変数  \n",
    ">> **driftThres** = 0.03 # 繰り返しの終了を決定するパラメータ変動幅の平均値に対するしきい値  \n",
    ">> **errorThres** = 0.01  # 繰り返しの終了を決定するエラー変動のしきい値  \n",
    ">> **dCount** = 5        # ２分探索の打ち切り回数  \n",
    ">> **debugmode** = False  # デバッグ情報の表示オンオフ  \n",
    ">> **openmode** = False  # 端点をサンプルに強制吸着するか否か  \n",
    ">> **AsymptoticPriority** = 'distance' # パラメータ割り当てのフェーズで距離（'distance'）を尺度とするか、等間隔配置（'span'）を評価尺度とするか\n",
    "\n",
    "## **BezierCurve()**　（コンストラクタ）\n",
    "> **rd.BezierCurve(self, N=5, samples = [], initialPara=[])**  \n",
    ">入力\n",
    ">>    **samples**   輪郭の標本  \n",
    ">>    **N**  ベジエ曲線の次数  \n",
    ">>    **initialPara**   サンプルに対するベジエ関数のパラメータの初期値\n",
    ">>                  デフォルトは[]であり、その場合は初期値はリニアとなる\n",
    "    \n",
    "> **bez = BezierCurve(N=5,con)**\n",
    "\n",
    "## **bez.fit0()**  高速あてはめ\n",
    ">> 標本点に対応するベジエ曲線上の対応点のパラメータがパラメータ空間で等間隔であると仮定してあてはめを実行する。繰り返しをしないので高速。\n",
    "\n",
    "##  **bez.fit1(maxTry=0)**　厳密あてはめ\n",
    ">> maxTry 最大繰り返し回数　0の場合は収束条件を満たすまで繰り返す   \n",
    ">> Step1  fit0() の実行      \n",
    ">> Setp2  fit0()で求めた曲線をもとに、標本点に対応するパラメータを再計算する  \n",
    ">>（前回の仮のパラメータが示す位置よりもより近い曲線上の点を見つけ、紐づけるパラメータを更新する）\n",
    "\n",
    "## **toggledebugmode(set=True,debug=False)**   デバッグ情報のオンオフ\n",
    ">>  **set** True/セットする、False/トグルする  \n",
    ">>  **debug** True/誤差表示あり、False/誤差表示なし\n",
    "\n",
    "## **setParameters(driftThres=0.03,errorThres=0.01,dCount=5,debugmode=False,openmode=False)**  パラメータの表示とセット\n",
    "\n",
    "> クラス変数\n",
    ">>**driftThres** = 0.03 # 繰り返しにおけるパラメータ変動幅の平均値に対するしきい値。  \n",
    ">>**errorThres** = 0.01 # 繰り返し打ち切りを決める変動幅のしきい値。 \n",
    "     パラメータと誤差の変動幅がともにしきい値より小さくなったら計算を打ち切る。\n",
    "\n"
   ]
  },
  {
   "cell_type": "markdown",
   "metadata": {
    "colab_type": "text",
    "id": "XzJxsXqk-LBn"
   },
   "source": [
    "lengths = [10,12,21,23,24,32,34,35,40,41,42,51]\n",
    "searchfor = [10,20,30,40,50]\n",
    "# 結果の描画\n",
    "\n",
    "##  **drawBez()**\n",
    "> **drawBez(rdimg,bezL=None,bezR=None,bezC=None,cpl=None,cpr=None,cpc=None, \n",
    "             cntL=[],cntR=[],cntC=None, ladder=None,PosL=[],PosR=[],PosC=[],n_samples=20,saveImage=False,savepath=\"\",ct=[])**\n",
    "             \n",
    ">入力  \n",
    ">>    **rdimg**  シルエット画像  \n",
    ">>    **bezL**,**bezR**,**bezC**   ベジエ曲線の定義式　3本まで描ける  \n",
    ">>    **cpl**,**cpr**,**cpc**     ベジエ曲線の制御点    \n",
    ">>    **cntL**,**cntR**,**cntC**  標本点\n",
    ">>    **PosL**,**PosR**.**PosC** ラダーの設置点\n",
    ">パラメータ  \n",
    ">>    **ladder**  標本点間を結ぶ線分を描画するかどうか    \n",
    ">>    **n_samples**  ラダーの数  \n",
    ">>    **saveImage** 画像を保存するかどうか  \n",
    ">>    **savepath** ファイル名  \n",
    ">>    **ct** カラー指定　説明省略\n",
    "    "
   ]
  },
  {
   "cell_type": "markdown",
   "metadata": {
    "colab_type": "text",
    "id": "-Rp5OmpzogkW"
   },
   "source": [
    "# 実行例\n",
    "\n",
    "### 現在のパラメータ設定の表示"
   ]
  },
  {
   "cell_type": "code",
   "execution_count": 4,
   "metadata": {
    "colab": {
     "base_uri": "https://localhost:8080/",
     "height": 143
    },
    "colab_type": "code",
    "id": "dK9HFqi6-LBf",
    "outputId": "e7ab8e6c-c248-4f5f-a9bd-d6d7ef213536"
   },
   "outputs": [
    {
     "name": "stdout",
     "output_type": "stream",
     "text": [
      "AsymptoticPriority :  distance\n",
      "dCount    :  7\n",
      "driftThres:  0.03\n",
      "errorThres:  0.01\n",
      "debugmode :  False\n",
      "openmode  :  False\n",
      "\n"
     ]
    }
   ],
   "source": [
    "rd.BezierCurve.setParameters()"
   ]
  },
  {
   "cell_type": "markdown",
   "metadata": {
    "colab_type": "text",
    "id": "hIG2Ad1vrhy5"
   },
   "source": [
    "## 高速フィッテイング fit0()の実行例 \n",
    " 4次ベジエ近似、not openmode ( 端点固定 ）"
   ]
  },
  {
   "cell_type": "code",
   "execution_count": 5,
   "metadata": {
    "colab": {
     "base_uri": "https://localhost:8080/",
     "height": 590
    },
    "colab_type": "code",
    "id": "BtrIezkxEJ99",
    "outputId": "ee20ce46-772f-4c94-cf4c-31f29b806a63"
   },
   "outputs": [
    {
     "name": "stdout",
     "output_type": "stream",
     "text": [
      "\n",
      "\n",
      "Wall time: 3.05 s\n"
     ]
    },
    {
     "data": {
      "image/png": "[encoded data removed]",
      "text/plain": [
       "<Figure size 600x600 with 1 Axes>"
      ]
     },
     "metadata": {
      "needs_background": "light"
     },
     "output_type": "display_data"
    }
   ],
   "source": [
    "%%time\n",
    "# 先にもとめた左右の輪郭線からそれぞれ等間隔で32個ずつ標本点を取ってくる\n",
    "cntL = rd.getSamples(conLeft,N=32)\n",
    "cntR = rd.getSamples(conRight,N=32)\n",
    "# ベジエ曲線の近似次数（N)とサンプルをセットしてベジエ曲線のインスタンスを作成\n",
    "bezL = rd.BezierCurve(N=4,samples=cntL)\n",
    "bezR = rd.BezierCurve(N=4,samples=cntR)\n",
    "\n",
    "# rd.BezierCurve.toggledebugmode(set=True,debug=True)\n",
    "# 高速あてはめの実行\n",
    "cpsL0,fL0 = bezL.fit0()\n",
    "cpsR0,fR0 = bezR.fit0()\n",
    "# 結果の描画\n",
    "rd.drawBez(img,stt=0.00,end=1.0,bezL=fL0,bezR=fR0,cntL=cntL,cntR=cntR)"
   ]
  },
  {
   "cell_type": "markdown",
   "metadata": {
    "colab_type": "text",
    "id": "scDNWq5AopNc"
   },
   "source": [
    "## 得られたベジエ曲線の定義式"
   ]
  },
  {
   "cell_type": "code",
   "execution_count": 6,
   "metadata": {
    "colab": {
     "base_uri": "https://localhost:8080/",
     "height": 125
    },
    "colab_type": "code",
    "id": "8n1p0674THY7",
    "outputId": "5d3ef718-ac45-4c38-f5ae-250386da55d9"
   },
   "outputs": [
    {
     "data": {
      "text/plain": [
       "(Matrix([\n",
       " [147.0*t**4 + 191.618842289671*t**3*(4 - 4*t) + 265.812974175701*t**2*(1 - t)**2 + 186.197613984423*t*(1 - t)**3 + 147.0*(1 - t)**4],\n",
       " [  270.0*t**4 + 157.220340768965*t**3*(4 - 4*t) + 1212.64169141815*t**2*(1 - t)**2 + 29.048678987403*t*(1 - t)**3 + 26.0*(1 - t)**4]]),\n",
       " Matrix([\n",
       " [ 154.0*t**4 + 129.5726802537*t**3*(4 - 4*t) + 1424.48727302994*t**2*(1 - t)**2 + 1062.25810993017*t*(1 - t)**3 + 168.0*(1 - t)**4],\n",
       " [270.0*t**4 + 158.297717494525*t**3*(4 - 4*t) + 1221.73464216839*t**2*(1 - t)**2 + 111.001647913927*t*(1 - t)**3 + 25.0*(1 - t)**4]]))"
      ]
     },
     "execution_count": 6,
     "metadata": {},
     "output_type": "execute_result"
    }
   ],
   "source": [
    "fL0,fR0"
   ]
  },
  {
   "cell_type": "markdown",
   "metadata": {
    "colab_type": "text",
    "id": "nSKv1IRYDRwy"
   },
   "source": [
    "この式は sympy 形式で表現されており、次のような方法でパラメータ t に値を代入することができます。"
   ]
  },
  {
   "cell_type": "code",
   "execution_count": 7,
   "metadata": {
    "colab": {
     "base_uri": "https://localhost:8080/",
     "height": 71
    },
    "colab_type": "code",
    "id": "wcB0goGmDdJ_",
    "outputId": "a44d28e0-4b36-4680-d6c3-fbca08433436"
   },
   "outputs": [
    {
     "data": {
      "text/latex": [
       "$\\displaystyle \\left[\\begin{matrix}94.5303723324256\\\\135.410733342588\\end{matrix}\\right]$"
      ],
      "text/plain": [
       "Matrix([\n",
       "[94.5303723324256],\n",
       "[135.410733342588]])"
      ]
     },
     "execution_count": 7,
     "metadata": {},
     "output_type": "execute_result"
    }
   ],
   "source": [
    "fL0.subs('t',0.5)  # fL の t に 0.5 を代入　（左輪郭の中間点の座標） "
   ]
  },
  {
   "cell_type": "markdown",
   "metadata": {
    "colab_type": "text",
    "id": "9krsw6TyEwtH"
   },
   "source": [
    "sympy は数式処理ライブラリですので、具体値だけでなく、次のように式を代入することも可能です。"
   ]
  },
  {
   "cell_type": "code",
   "execution_count": 8,
   "metadata": {
    "colab": {
     "base_uri": "https://localhost:8080/",
     "height": 91
    },
    "colab_type": "code",
    "id": "noHSiGCZE7j0",
    "outputId": "bd134a50-7148-4bc5-9fcf-bd466dbe357c"
   },
   "outputs": [
    {
     "data": {
      "text/latex": [
       "$\\displaystyle \\left[\\begin{matrix}147.0 \\left(1 - \\left(b + 3\\right)^{2}\\right)^{4} + 186.197613984423 \\left(1 - \\left(b + 3\\right)^{2}\\right)^{3} \\left(b + 3\\right)^{2} + 265.812974175701 \\left(1 - \\left(b + 3\\right)^{2}\\right)^{2} \\left(b + 3\\right)^{4} + 191.618842289671 \\left(4 - 4 \\left(b + 3\\right)^{2}\\right) \\left(b + 3\\right)^{6} + 147.0 \\left(b + 3\\right)^{8}\\\\26.0 \\left(1 - \\left(b + 3\\right)^{2}\\right)^{4} + 29.048678987403 \\left(1 - \\left(b + 3\\right)^{2}\\right)^{3} \\left(b + 3\\right)^{2} + 1212.64169141815 \\left(1 - \\left(b + 3\\right)^{2}\\right)^{2} \\left(b + 3\\right)^{4} + 157.220340768965 \\left(4 - 4 \\left(b + 3\\right)^{2}\\right) \\left(b + 3\\right)^{6} + 270.0 \\left(b + 3\\right)^{8}\\end{matrix}\\right]$"
      ],
      "text/plain": [
       "Matrix([\n",
       "[147.0*(1 - (b + 3)**2)**4 + 186.197613984423*(1 - (b + 3)**2)**3*(b + 3)**2 + 265.812974175701*(1 - (b + 3)**2)**2*(b + 3)**4 + 191.618842289671*(4 - 4*(b + 3)**2)*(b + 3)**6 + 147.0*(b + 3)**8],\n",
       "[  26.0*(1 - (b + 3)**2)**4 + 29.048678987403*(1 - (b + 3)**2)**3*(b + 3)**2 + 1212.64169141815*(1 - (b + 3)**2)**2*(b + 3)**4 + 157.220340768965*(4 - 4*(b + 3)**2)*(b + 3)**6 + 270.0*(b + 3)**8]])"
      ]
     },
     "execution_count": 8,
     "metadata": {},
     "output_type": "execute_result"
    }
   ],
   "source": [
    "a,b = var('a,b')\n",
    "fL0.subs('t',(a+b)**2).subs(a,3)  # t に a+b を代入し、さらに a に３を代入"
   ]
  },
  {
   "cell_type": "markdown",
   "metadata": {
    "colab_type": "text",
    "id": "MoaYixWXF9w7"
   },
   "source": [
    "sympy の代入 subs は元の式に影響を与えません"
   ]
  },
  {
   "cell_type": "code",
   "execution_count": 9,
   "metadata": {
    "colab": {
     "base_uri": "https://localhost:8080/",
     "height": 71
    },
    "colab_type": "code",
    "id": "JwjZrE-qF2hq",
    "outputId": "5c2e1ea8-c2c9-429e-f6ef-8546559d70c6"
   },
   "outputs": [
    {
     "data": {
      "text/latex": [
       "$\\displaystyle \\left[\\begin{matrix}147.0 t^{4} + 191.618842289671 t^{3} \\left(4 - 4 t\\right) + 265.812974175701 t^{2} \\left(1 - t\\right)^{2} + 186.197613984423 t \\left(1 - t\\right)^{3} + 147.0 \\left(1 - t\\right)^{4}\\\\270.0 t^{4} + 157.220340768965 t^{3} \\left(4 - 4 t\\right) + 1212.64169141815 t^{2} \\left(1 - t\\right)^{2} + 29.048678987403 t \\left(1 - t\\right)^{3} + 26.0 \\left(1 - t\\right)^{4}\\end{matrix}\\right]$"
      ],
      "text/plain": [
       "Matrix([\n",
       "[147.0*t**4 + 191.618842289671*t**3*(4 - 4*t) + 265.812974175701*t**2*(1 - t)**2 + 186.197613984423*t*(1 - t)**3 + 147.0*(1 - t)**4],\n",
       "[  270.0*t**4 + 157.220340768965*t**3*(4 - 4*t) + 1212.64169141815*t**2*(1 - t)**2 + 29.048678987403*t*(1 - t)**3 + 26.0*(1 - t)**4]])"
      ]
     },
     "execution_count": 9,
     "metadata": {},
     "output_type": "execute_result"
    }
   ],
   "source": [
    "fL0 # 代入前の式のままであることを確認せよ"
   ]
  },
  {
   "cell_type": "markdown",
   "metadata": {
    "colab_type": "text",
    "id": "2NHiWTtuoy0d"
   },
   "source": [
    "## 制御点の位置"
   ]
  },
  {
   "cell_type": "code",
   "execution_count": 10,
   "metadata": {
    "colab": {
     "base_uri": "https://localhost:8080/",
     "height": 197
    },
    "colab_type": "code",
    "id": "UJmLEy7Wo2Yo",
    "outputId": "fce1cff4-f0f1-4faa-a5ae-704b294dde91"
   },
   "outputs": [
    {
     "data": {
      "text/plain": [
       "([[147.0, 26.0],\n",
       "  [46.54940349610575, 7.262169746850754],\n",
       "  [44.3021623626168, 202.1069485696916],\n",
       "  [191.61884228967142, 157.2203407689654],\n",
       "  [147.0, 270.0]],\n",
       " [[168.0, 25.0],\n",
       "  [265.5645274825418, 27.750411978481765],\n",
       "  [237.4145455049899, 203.62244036139907],\n",
       "  [129.5726802536996, 158.29771749452453],\n",
       "  [154.0, 270.0]])"
      ]
     },
     "execution_count": 10,
     "metadata": {},
     "output_type": "execute_result"
    }
   ],
   "source": [
    "cpsL0,cpsR0"
   ]
  },
  {
   "cell_type": "code",
   "execution_count": 11,
   "metadata": {
    "colab": {
     "base_uri": "https://localhost:8080/",
     "height": 518
    },
    "colab_type": "code",
    "id": "CFFEFo2YGxoU",
    "outputId": "36e81a15-ec21-4ca7-a52a-1d07c088ab6a"
   },
   "outputs": [
    {
     "data": {
      "image/png": "[encoded data removed]",
      "text/plain": [
       "<Figure size 600x600 with 1 Axes>"
      ]
     },
     "metadata": {
      "needs_background": "light"
     },
     "output_type": "display_data"
    }
   ],
   "source": [
    "rd.drawBez(img,stt=0.00,end=1.0,bezL=fL0,bezR=fR0,cpl=cpsL0,cpr=cpsR0)"
   ]
  },
  {
   "cell_type": "markdown",
   "metadata": {
    "colab_type": "text",
    "id": "X6Ey8zXvrwJN"
   },
   "source": [
    "# Eager フィッティング fit1()の実行例\n",
    "　４次近似  not openmode ( 端点固定 ）"
   ]
  },
  {
   "cell_type": "code",
   "execution_count": null,
   "metadata": {
    "colab": {
     "base_uri": "https://localhost:8080/",
     "height": 1000
    },
    "colab_type": "code",
    "id": "_dxV9nJ99fEh",
    "outputId": "b61efe6b-66ee-44e7-c944-d342168dd0d4",
    "scrolled": false
   },
   "outputs": [
    {
     "name": "stdout",
     "output_type": "stream",
     "text": [
      "............."
     ]
    }
   ],
   "source": [
    "%%time\n",
    "# rd.BezierCurve.toggledebugmode(set=True,debug=True)\n",
    "# 先にもとめた左右の輪郭線からそれぞれ等間隔で32個ずつ標本点を取ってくる\n",
    "# cntL = rd.getSamples(conLeft,N=32)\n",
    "# cntR = rd.getSamples(conRight,N=32)\n",
    "# ベジエ曲線の近似次数（N)とサンプルをセットしてベジエ曲線のインスタンスを作成\n",
    "# bezLN = rd.BezierCurve(N=4,samples=cntL)\n",
    "# bezRN = rd.BezierCurve(N=4,samples=cntR)\n",
    "# ここまでは先と同じなので2度実行する必要がない\n",
    "# Eagerあてはめ\n",
    "rd.BezierCurve.AsymptoticPriority = 'distance'\n",
    "cpsL1,fL1 = bezL.fit1()\n",
    "cpsR1,fR1 = bezR.fit1()\n",
    "# 結果の描画\n",
    "rd.drawBez(img,stt=0.02,end=0.98,bezL=fL1,bezR=fR1)"
   ]
  },
  {
   "cell_type": "markdown",
   "metadata": {
    "colab_type": "text",
    "id": "aQK-7S7DatPC"
   },
   "source": [
    "## fit0() と fit1() の結果の違い\n",
    "\n",
    "オレンジが fit0 （高速）、グリーンが fit1() の結果です。"
   ]
  },
  {
   "cell_type": "code",
   "execution_count": null,
   "metadata": {
    "colab": {
     "base_uri": "https://localhost:8080/",
     "height": 1000
    },
    "colab_type": "code",
    "id": "w6fu6YGa_Dw_",
    "outputId": "4c55c471-e863-4072-c0f9-328321f0caa2",
    "scrolled": false
   },
   "outputs": [],
   "source": [
    "rd.drawBez(img,stt=0.02,end=0.98,bezL=fL1,bezR=fR1,bezC=fR0,ct=list(\"221456789\"))\n",
    "rd.drawBez(img,stt=0.02,end=0.98,bezL=fL1,bezR=fR1,bezC=fR0,ct=list(\"2213456789\"))"
   ]
  },
  {
   "cell_type": "markdown",
   "metadata": {
    "colab_type": "text",
    "id": "3Gys-kHlxses"
   },
   "source": [
    "この例は厳密あてはめの方が優れていることが分かりやすい。\n",
    "\n",
    "これは次数が低いからで、経験的には近似の次数が上がると fit0 と fit1 の差は少なく、大量のデータを処理するなら fit0 でも十分だと思われる。\n",
    "\n",
    "### 関数式の違い"
   ]
  },
  {
   "cell_type": "code",
   "execution_count": null,
   "metadata": {
    "colab": {
     "base_uri": "https://localhost:8080/",
     "height": 197
    },
    "colab_type": "code",
    "id": "DGlVoufnwbLS",
    "outputId": "5755210e-e30f-4c56-c5db-4e541a88033a"
   },
   "outputs": [],
   "source": [
    "fL0,fL1,fR0,fR1"
   ]
  },
  {
   "cell_type": "markdown",
   "metadata": {
    "colab_type": "text",
    "id": "Z52kdXTmyBin"
   },
   "source": [
    "# Openmode\n",
    "\n",
    "ベジエ曲線の性質として、曲線は必ず両端の制御点を通る。\n",
    "\n",
    "そこで、両端の制御点はサンプルの両端であるものとして固定し、両端以外の制御点のみを未知数とすることで、未知数の数を減らしている。\n",
    "\n",
    "しかし、データとして両端付近はイレギュラーな位置であることが多い。そこで両端を固定せずに未知数としてフィッティングを試みるのが **Openmode** である。\n",
    "\n",
    "**Openmode** で計算させたい場合は、次のように、 **BezierCurve** のクラス変数 **openmode** の Trueをセットしてから処理を行えばよい。 "
   ]
  },
  {
   "cell_type": "code",
   "execution_count": null,
   "metadata": {
    "colab": {
     "base_uri": "https://localhost:8080/",
     "height": 143
    },
    "colab_type": "code",
    "id": "6Es1qcpXwdqR",
    "outputId": "8ca969b7-e863-41e7-851f-90f3ae5f8716"
   },
   "outputs": [],
   "source": [
    "rd.BezierCurve.setParameters(openmode=True)"
   ]
  },
  {
   "cell_type": "code",
   "execution_count": null,
   "metadata": {},
   "outputs": [],
   "source": [
    "rd.BezierCurve.AsymptoticPriority = 'distance'\n",
    "cpsL1o,fLo = bezL.fit1()\n",
    "cpsR1o,fRo = bezR.fit1()\n",
    "# 結果の描画\n",
    "rd.drawBez(img,stt=0.02,end=0.98,bezL=fL1,bezR=fR1)"
   ]
  },
  {
   "cell_type": "markdown",
   "metadata": {
    "colab_type": "text",
    "id": "PCQK993Dhdz-"
   },
   "source": [
    "## オープンモードと固定モードの結果比較"
   ]
  },
  {
   "cell_type": "code",
   "execution_count": null,
   "metadata": {
    "colab": {
     "base_uri": "https://localhost:8080/",
     "height": 518
    },
    "colab_type": "code",
    "id": "paG7ar340swR",
    "outputId": "79145b8c-2fb0-4292-e48e-b85e0c732dd5"
   },
   "outputs": [],
   "source": [
    "rd.drawBez(img,stt=0.02,end=0.98,bezL=fL1,bezR=fLo,ct=[\"rikyugreen\",\"orange\"])"
   ]
  },
  {
   "cell_type": "markdown",
   "metadata": {
    "colab_type": "text",
    "id": "VD3-OMyhg2RC"
   },
   "source": [
    "この例の場合、オープンモード（オレンジ）の上端点は内部に回り込んでしまったが、あてはめ的には改善されている。\n",
    "\n",
    "*stt=0.02,end=0.98* は描画するパラメータ範囲である。つまり、上下２％は描いていない。"
   ]
  },
  {
   "cell_type": "code",
   "execution_count": null,
   "metadata": {
    "colab": {
     "base_uri": "https://localhost:8080/",
     "height": 518
    },
    "colab_type": "code",
    "id": "OBqMhw2v1Fib",
    "outputId": "3120b761-9b30-416d-8300-f7b1bd575457"
   },
   "outputs": [],
   "source": [
    "# 両端のカット\n",
    "rd.drawBez(img,stt=0.05,end=0.95,bezL=fLo,bezR=fRo)"
   ]
  },
  {
   "cell_type": "code",
   "execution_count": null,
   "metadata": {
    "colab": {
     "base_uri": "https://localhost:8080/",
     "height": 518
    },
    "colab_type": "code",
    "id": "hiQ60XN9mRGq",
    "outputId": "d0111440-897b-42e1-9db8-f4807f27c162"
   },
   "outputs": [],
   "source": [
    "# 両端のカットなし\n",
    "rd.drawBez(img,stt=0.00,end=1.00,bezL=fLo,bezR=fRo)"
   ]
  },
  {
   "cell_type": "markdown",
   "metadata": {
    "colab_type": "text",
    "id": "Ub8ZuZx25c0X"
   },
   "source": [
    "# より高次の近似　openmode  高速　８次"
   ]
  },
  {
   "cell_type": "code",
   "execution_count": null,
   "metadata": {
    "colab": {
     "base_uri": "https://localhost:8080/",
     "height": 680
    },
    "colab_type": "code",
    "id": "ws4kd3a_1qW0",
    "outputId": "b4f79b32-4d18-4ce8-f3b8-376a46770c1b"
   },
   "outputs": [],
   "source": [
    "rd.BezierCurve.setParameters(openmode=True)\n",
    "bezL8 = rd.BezierCurve(N=8,samples=cntL)\n",
    "bezR8 = rd.BezierCurve(N=8,samples=cntR)\n",
    "cpsL8,fL8 = bezL8.fit0()\n",
    "cpsR8,fR8 = bezR8.fit0()\n",
    "rd.drawBez(img,stt=0.02,end=0.98,bezL=fL8,bezR=fR8)"
   ]
  },
  {
   "cell_type": "markdown",
   "metadata": {},
   "source": [
    "次数が高いと高速あてはめでも結構きれいに近似できることがわかる。"
   ]
  },
  {
   "cell_type": "markdown",
   "metadata": {
    "colab_type": "text",
    "id": "wMTylHBaYY2M"
   },
   "source": [
    "# より高次の近似　openmode 厳密　８次"
   ]
  },
  {
   "cell_type": "code",
   "execution_count": null,
   "metadata": {
    "colab": {
     "base_uri": "https://localhost:8080/",
     "height": 554
    },
    "colab_type": "code",
    "id": "43hJphCx2X3g",
    "outputId": "66ea0a64-4ae1-42a6-d41b-7a65067cf915"
   },
   "outputs": [],
   "source": [
    "cpsL81,fL81 = bezL8.fit1()\n",
    "cpsR81,fR81 = bezR8.fit1()\n",
    "rd.drawBez(img,stt=0.03,end=0.97,bezL=fL81,bezR=fR81)"
   ]
  },
  {
   "cell_type": "markdown",
   "metadata": {
    "colab_type": "text",
    "id": "jFTyG5b45njc"
   },
   "source": [
    "## 非 openmode 厳密　８次 "
   ]
  },
  {
   "cell_type": "code",
   "execution_count": null,
   "metadata": {
    "colab": {
     "base_uri": "https://localhost:8080/",
     "height": 680
    },
    "colab_type": "code",
    "id": "m9CuASfb4Ltv",
    "outputId": "465cafe1-3967-46c1-9183-4f7673c47f20"
   },
   "outputs": [],
   "source": [
    "rd.BezierCurve.setParameters(openmode=False)\n",
    "cpsL8,fL8 = bezL8.fit1()\n",
    "cpsR8,fR8 = bezR8.fit1()\n",
    "rd.drawBez(img,stt=0.02,end=0.98,bezL=fL8,bezR=fR8)"
   ]
  },
  {
   "cell_type": "markdown",
   "metadata": {
    "colab_type": "text",
    "id": "P5bfOt8sEfDj"
   },
   "source": [
    "# デモ"
   ]
  },
  {
   "cell_type": "code",
   "execution_count": null,
   "metadata": {
    "colab": {
     "base_uri": "https://localhost:8080/",
     "height": 53
    },
    "colab_type": "code",
    "id": "oNJD0Du3-cRm",
    "outputId": "9bfdece5-5772-4253-ee7d-0b3eec8e2708"
   },
   "outputs": [],
   "source": [
    "%%time\n",
    "\n",
    "def Demo(imgnum,samples=32,N=5,Amode=0,controlPoints=False):\n",
    "    # 画像の左右の輪郭線を抽出　（S5参照）\n",
    "    img = imgs[imgnum]\n",
    "    conLeft,conRight = rd.getCntPairWithImg(img)\n",
    "    print(\"輪郭線の画素数は、左 {}  右{}\".format(len(conLeft),len(conRight)))\n",
    "    Left = rd.getSamples(conLeft,N=samples,mode='Equidistant')\n",
    "    Right = rd.getSamples(conRight,N=samples,mode='Equidistant')\n",
    "    # 先にもとめた左右の輪郭線からそれぞれ等間隔で32個ずつ標本点を取ってくる\n",
    "    # ベジエ曲線の近似次数（N)とサンプルをセットしてベジエ曲線のインスタンスを作成\n",
    "    bezL = rd.BezierCurve(N=N,samples=Left)\n",
    "    bezR = rd.BezierCurve(N=N,samples=Right)\n",
    "    if Amode == 0:\n",
    "        # 高速あてはめの実行\n",
    "        cpsL,fL = bezL.fit0()\n",
    "        cpsR,fR = bezR.fit0()\n",
    "    else:\n",
    "        cpsL,fL = bezL.fit1()\n",
    "        cpsR,fR = bezR.fit1()\n",
    "    # 結果の描画\n",
    "    if controlPoints:\n",
    "        rd.drawBez(img,stt=0.00,end=1.0,bezL=fL,bezR=fR,cntL=Left,cntR=Right,cpl=cpsL,cpr=cpsR)\n",
    "    else:\n",
    "        rd.drawBez(img,stt=0.00,end=1.0,bezL=fL,bezR=fR,cntL=Left,cntR=Right)"
   ]
  },
  {
   "cell_type": "code",
   "execution_count": null,
   "metadata": {
    "colab": {
     "base_uri": "https://localhost:8080/",
     "height": 572
    },
    "colab_type": "code",
    "id": "H8ivpPTE_4cV",
    "outputId": "094ce228-342e-4774-b674-4791a28029e1"
   },
   "outputs": [],
   "source": [
    "Demo(0,controlPoints=True)"
   ]
  },
  {
   "cell_type": "code",
   "execution_count": null,
   "metadata": {
    "colab": {
     "base_uri": "https://localhost:8080/",
     "height": 453
    },
    "colab_type": "code",
    "id": "SP_a_KXO_64W",
    "outputId": "41cc6870-26d5-469e-d6ae-2986f1559155"
   },
   "outputs": [],
   "source": [
    "Demo(1,controlPoints=True)"
   ]
  },
  {
   "cell_type": "code",
   "execution_count": null,
   "metadata": {
    "colab": {
     "base_uri": "https://localhost:8080/",
     "height": 572
    },
    "colab_type": "code",
    "id": "jW7KbHKbBNSF",
    "outputId": "697f9a8d-c77a-4681-dc3a-6920a330fed0"
   },
   "outputs": [],
   "source": [
    "Demo(2,controlPoints=True)"
   ]
  },
  {
   "cell_type": "code",
   "execution_count": null,
   "metadata": {
    "colab": {
     "base_uri": "https://localhost:8080/",
     "height": 572
    },
    "colab_type": "code",
    "id": "IeeRGA_WBQZh",
    "outputId": "45a8ea6d-05de-486f-b68f-3bcfcd975ef3"
   },
   "outputs": [],
   "source": [
    "Demo(3,controlPoints=True)"
   ]
  },
  {
   "cell_type": "code",
   "execution_count": null,
   "metadata": {
    "colab": {
     "base_uri": "https://localhost:8080/",
     "height": 489
    },
    "colab_type": "code",
    "id": "-T_59ISTBhqo",
    "outputId": "977f5982-833f-4307-d75b-13a51b8aa162"
   },
   "outputs": [],
   "source": [
    "Demo(4,controlPoints=True)"
   ]
  },
  {
   "cell_type": "code",
   "execution_count": null,
   "metadata": {
    "colab": {
     "base_uri": "https://localhost:8080/",
     "height": 572
    },
    "colab_type": "code",
    "id": "ytOPneAPBjk0",
    "outputId": "d5fc213e-7c83-4a75-a76c-0825d71c5608"
   },
   "outputs": [],
   "source": [
    "# 8次ベジエ近似\n",
    "Demo(4,N=8)"
   ]
  },
  {
   "cell_type": "code",
   "execution_count": null,
   "metadata": {
    "colab": {
     "base_uri": "https://localhost:8080/",
     "height": 572
    },
    "colab_type": "code",
    "id": "uHz40mXrBpP5",
    "outputId": "c48cbb6a-c029-42dc-8c70-14ad8b163b2b"
   },
   "outputs": [],
   "source": [
    "Demo(5,controlPoints=True) #４次"
   ]
  },
  {
   "cell_type": "code",
   "execution_count": null,
   "metadata": {
    "colab": {
     "base_uri": "https://localhost:8080/",
     "height": 428
    },
    "colab_type": "code",
    "id": "s_Jv1SO-By-F",
    "outputId": "50a7a145-c611-47af-9010-c6e4ff57affb"
   },
   "outputs": [],
   "source": [
    "Demo(6,controlPoints=True) #４次"
   ]
  },
  {
   "cell_type": "markdown",
   "metadata": {
    "colab_type": "text",
    "id": "YhJH4UZqEk3z"
   },
   "source": [
    "# この個体は５次ベジエの高速あてはめモードではいまいちフィッティングしない。次数を挙げてやればきれいにフィッティングできる。"
   ]
  },
  {
   "cell_type": "code",
   "execution_count": null,
   "metadata": {
    "colab": {
     "base_uri": "https://localhost:8080/",
     "height": 572
    },
    "colab_type": "code",
    "id": "bF0-FiGoB3d1",
    "outputId": "bb509bc9-41a0-4ed1-caa6-345156d29c18"
   },
   "outputs": [],
   "source": [
    "Demo(6,N=12) #12次"
   ]
  },
  {
   "cell_type": "code",
   "execution_count": null,
   "metadata": {
    "colab": {
     "base_uri": "https://localhost:8080/",
     "height": 572
    },
    "colab_type": "code",
    "id": "izB8xClbB7HP",
    "outputId": "52d5df0b-4638-4056-afc5-96839f60e728"
   },
   "outputs": [],
   "source": [
    "Demo(7,controlPoints=True) # 4次"
   ]
  },
  {
   "cell_type": "code",
   "execution_count": null,
   "metadata": {
    "colab": {
     "base_uri": "https://localhost:8080/",
     "height": 572
    },
    "colab_type": "code",
    "id": "_L4HEp9tCAHe",
    "outputId": "13d8d7e2-ef0c-4739-d71e-a6a63bf1fe43"
   },
   "outputs": [],
   "source": [
    "Demo(8,controlPoints=True) # 4次"
   ]
  },
  {
   "cell_type": "markdown",
   "metadata": {
    "colab_type": "text",
    "id": "6w6fsNT2FDC6"
   },
   "source": [
    "# Eagerフィッティング\n",
    "\n",
    "先に、ダルマ型のフィッティングで１２次を使ったが、Eagerフィッティング (fit1) を使えば、低次でもかなりいい線までフィッティングできる。\n",
    "\n",
    "# ５次 Eager"
   ]
  },
  {
   "cell_type": "code",
   "execution_count": null,
   "metadata": {
    "colab": {
     "base_uri": "https://localhost:8080/",
     "height": 608
    },
    "colab_type": "code",
    "id": "JHSmNRV7CDF7",
    "outputId": "59f602e5-6a5b-401d-c49f-f8b6401ba28f"
   },
   "outputs": [],
   "source": [
    "Demo(6,Amode=1,N=5)"
   ]
  },
  {
   "cell_type": "markdown",
   "metadata": {
    "colab_type": "text",
    "id": "i5zO7XSxG8SC"
   },
   "source": [
    "# ６次 Eager"
   ]
  },
  {
   "cell_type": "code",
   "execution_count": null,
   "metadata": {
    "colab": {
     "base_uri": "https://localhost:8080/",
     "height": 1000
    },
    "colab_type": "code",
    "id": "ud5EkP0sEHlJ",
    "outputId": "efea74e5-3da2-403f-e4cc-d45846f4a048"
   },
   "outputs": [],
   "source": [
    "Demo(6,Amode=1,N=6)"
   ]
  },
  {
   "cell_type": "markdown",
   "metadata": {},
   "source": [
    "# 全周ベジエ近似\n",
    "\n",
    "上端点を完全自動で求めることは、一般的には困難であるが下端は先細りであることが普通なので、自動検出もそう難しくはない。\n",
    "\n",
    "下端点を起点かつ終点とする全周の点列を1本のベジエ曲線で近似できるかやってみる。"
   ]
  },
  {
   "cell_type": "code",
   "execution_count": null,
   "metadata": {},
   "outputs": [],
   "source": [
    "%%time\n",
    "def DemoW(imgnum,samples=64,N=10,Amode=0,controlPoints=False):\n",
    "    # 画像の全周の輪郭線を抽出　（S5参照）\n",
    "    img = imgs[imgnum]\n",
    "    conAll = rd.getCntPairWithImg(img, mode=1)\n",
    "    print(\"輪郭線の画素数は、{}\".format(len(conAll)))\n",
    "    Samples = rd.getSamples(conAll,N=samples,mode='Equidistant')\n",
    "    # 先にもとめた左右の輪郭線からそれぞれ等間隔で32個ずつ標本点を取ってくる\n",
    "    # ベジエ曲線の近似次数（N)とサンプルをセットしてベジエ曲線のインスタンスを作成\n",
    "    bezL = rd.BezierCurve(N=N,samples=Samples)\n",
    "    if Amode == 0:\n",
    "        # 高速あてはめの実行\n",
    "        cps,fall = bezL.fit0()\n",
    "    else:\n",
    "        cps,fall = bezL.fit1()\n",
    "    # 結果の描画\n",
    "    if controlPoints:\n",
    "        rd.drawBez(img,stt=0.00,end=1.0,bezL=fall,cntL=Samples,cpl=cps)\n",
    "    else:\n",
    "        rd.drawBez(img,stt=0.00,end=1.0,bezL=fall,cntL=Samples)\n"
   ]
  },
  {
   "cell_type": "markdown",
   "metadata": {},
   "source": [
    "# 高速あてはめ 10次ベジエ"
   ]
  },
  {
   "cell_type": "code",
   "execution_count": null,
   "metadata": {},
   "outputs": [],
   "source": [
    "DemoW(0,samples=64,N=10,Amode=0,controlPoints=False)"
   ]
  },
  {
   "cell_type": "code",
   "execution_count": null,
   "metadata": {},
   "outputs": [],
   "source": [
    "DemoW(1,samples=64,N=10,Amode=0,controlPoints=False)"
   ]
  },
  {
   "cell_type": "code",
   "execution_count": null,
   "metadata": {},
   "outputs": [],
   "source": [
    "DemoW(2,samples=64,N=10,Amode=0,controlPoints=False)"
   ]
  },
  {
   "cell_type": "code",
   "execution_count": null,
   "metadata": {},
   "outputs": [],
   "source": [
    "DemoW(3,samples=64,N=10,Amode=0,controlPoints=False)"
   ]
  },
  {
   "cell_type": "code",
   "execution_count": null,
   "metadata": {},
   "outputs": [],
   "source": [
    "DemoW(4,samples=64,N=10,Amode=0,controlPoints=False)"
   ]
  },
  {
   "cell_type": "code",
   "execution_count": null,
   "metadata": {},
   "outputs": [],
   "source": [
    "DemoW(5,samples=64,N=10,Amode=0,controlPoints=False)"
   ]
  },
  {
   "cell_type": "code",
   "execution_count": null,
   "metadata": {},
   "outputs": [],
   "source": [
    "DemoW(6,samples=64,N=10,Amode=0,controlPoints=False)"
   ]
  },
  {
   "cell_type": "code",
   "execution_count": null,
   "metadata": {},
   "outputs": [],
   "source": [
    "DemoW(7,samples=64,N=10,Amode=0,controlPoints=False)"
   ]
  },
  {
   "cell_type": "code",
   "execution_count": null,
   "metadata": {
    "scrolled": true
   },
   "outputs": [],
   "source": [
    "DemoW(8,samples=64,N=10,Amode=0,controlPoints=False)"
   ]
  },
  {
   "cell_type": "markdown",
   "metadata": {},
   "source": [
    "## 高速モードで15次"
   ]
  },
  {
   "cell_type": "code",
   "execution_count": null,
   "metadata": {},
   "outputs": [],
   "source": [
    "DemoW(6,samples=64,N=15,Amode=0,controlPoints=False)"
   ]
  },
  {
   "cell_type": "markdown",
   "metadata": {},
   "source": [
    "# Eager フィッティング 10 次"
   ]
  },
  {
   "cell_type": "code",
   "execution_count": null,
   "metadata": {},
   "outputs": [],
   "source": [
    "DemoW(6,samples=64,N=10,Amode=1,controlPoints=False)"
   ]
  },
  {
   "cell_type": "markdown",
   "metadata": {},
   "source": [
    "# Eager フィッティング 12次"
   ]
  },
  {
   "cell_type": "code",
   "execution_count": null,
   "metadata": {},
   "outputs": [],
   "source": [
    "DemoW(6,samples=64,N=12,Amode=1,controlPoints=False)"
   ]
  },
  {
   "cell_type": "markdown",
   "metadata": {},
   "source": [
    "## 15次"
   ]
  },
  {
   "cell_type": "code",
   "execution_count": null,
   "metadata": {},
   "outputs": [],
   "source": [
    "DemoW(6,samples=64,N=15,Amode=1,controlPoints=False)"
   ]
  },
  {
   "cell_type": "markdown",
   "metadata": {},
   "source": [
    "### 考察\n",
    "全体的にはたしかにあてはめ誤差は少ないのであろうが、端点付近の誤差が大きい。\n",
    "サンプル点付近を通っているが、その間の部分、つまり評価対象外の部分で輪郭から外れており、明らかにオーバーフィッティング気味である。\n",
    "\n",
    "サンプル点を増やして次数は減らすべきかもしれない。試してみよう。"
   ]
  },
  {
   "cell_type": "code",
   "execution_count": null,
   "metadata": {},
   "outputs": [],
   "source": [
    "%%time\n",
    "DemoW(6,samples=128,N=10,Amode=1,controlPoints=False)"
   ]
  },
  {
   "cell_type": "markdown",
   "metadata": {
    "colab_type": "text",
    "id": "VOypJxDYHIG9"
   },
   "source": [
    "# まとめ\n",
    "\n",
    "- ほとんどの個体の両側は、６次ベジエ曲線まででかなりいい線の近似が可能である。\n",
    "\n",
    "- 全周を１本のベジエ曲線で近似することも可能である。その場合は、12か13次ぐらいが必要だと思われる。"
   ]
  },
  {
   "cell_type": "markdown",
   "metadata": {
    "colab_type": "text",
    "id": "p0oFzT-MNInI"
   },
   "source": [
    "# 解説は[こちら](https://colab.research.google.com/gist/iciromaco/a39fad822382b65eda0ec6a2e61981cb/s6_-theory-commentary-fitting-beziercurve-to-sample-points.ipynb)"
   ]
  },
  {
   "cell_type": "markdown",
   "metadata": {},
   "source": [
    "# 備考\n",
    "\n",
    "## 曲線あてはめの評価尺度について\n",
    "\n",
    "曲線あてはめに使うあてはめ誤差としては、通常は曲線と標本点の最短距離を用いるのが妥当であろう。\n",
    "このノートの実験にもその尺度を用いた。\n",
    "\n",
    "```'rd.BezierCurve.AsymptoticPriority = 'distance'```\n",
    "\n",
    "は、その尺度を用いるということの宣言である。\n",
    "\n",
    "これ以外の尺度として、**'span'** を用意した。\n",
    "\n",
    "**span**を指定した場合は、標本点が等間隔であるということを前提として、標本点と曲線上の最寄り点との距離の代わりに、曲線上に等間隔に採った点との距離を評価尺度とする。\n",
    "\n",
    "例として、\n",
    "\n",
    "```\n",
    "[[100,100],[100,120],[100,140],[100,160],[100,180],[120,180],[140,180],[160,180],[180,180]]\n",
    "```\n",
    "\n",
    "という点列を使って結果を比べてみよう、\n",
    "\n",
    "### distance"
   ]
  },
  {
   "cell_type": "code",
   "execution_count": null,
   "metadata": {
    "scrolled": false
   },
   "outputs": [],
   "source": [
    "rd.BezierCurve.debugmode = False\n",
    "test = np.array([[100,100],[100,120],[100,140],[100,160],[100,180],[120,180],[140,180],[160,180],[180,180]])\n",
    "rd.BezierCurve.AsymptoticPriority = 'distance'\n",
    "bez = rd.BezierCurve(N=4,samples=test)\n",
    "cps,f = bez.fit1()\n",
    "cps,f = bez.fit0(bez.ts)\n",
    "rd.drawBez(img,stt=0.00,end=1.0,bezL=f,cntL=test[::-1])\n",
    "tl = bez.ts\n",
    "flx,fly = f\n",
    "setlx = [float(flx.subs('t',s)) for s in tl]\n",
    "setly = [float(fly.subs('t',s)) for s in tl]\n",
    "plt.scatter(setlx,setly,marker='.',color='red')"
   ]
  },
  {
   "cell_type": "markdown",
   "metadata": {},
   "source": [
    "### span"
   ]
  },
  {
   "cell_type": "code",
   "execution_count": null,
   "metadata": {
    "scrolled": false
   },
   "outputs": [],
   "source": [
    "rd.BezierCurve.debugmode = False\n",
    "test = np.array([[100,100],[100,120],[100,140],[100,160],[100,180],[120,180],[140,180],[160,180],[180,180]])\n",
    "rd.BezierCurve.AsymptoticPriority = 'span'\n",
    "bez = rd.BezierCurve(N=4,samples=test)\n",
    "cps,f = bez.fit1()\n",
    "cps,f = bez.fit0(bez.ts)\n",
    "rd.drawBez(img,stt=0.00,end=1.0,bezL=f,cntL=test[::-1])\n",
    "tl = bez.ts\n",
    "flx,fly = f\n",
    "setlx = [float(flx.subs('t',s)) for s in tl]\n",
    "setly = [float(fly.subs('t',s)) for s in tl]\n",
    "plt.scatter(setlx,setly,marker='.',color='red')"
   ]
  },
  {
   "cell_type": "markdown",
   "metadata": {},
   "source": [
    "この例では明らかに span の方があてはめ精度が高い。\n",
    "\n",
    "ただダイコンのシルエットをいくつか試した限りでは、span は大きな歪を生じることが多かった。"
   ]
  }
 ],
 "metadata": {
  "accelerator": "GPU",
  "colab": {
   "collapsed_sections": [],
   "include_colab_link": true,
   "name": "S6_ベジエ曲線あてはめ.ipynb",
   "provenance": []
  },
  "kernelspec": {
   "display_name": "Python 3",
   "language": "python",
   "name": "python3"
  },
  "language_info": {
   "codemirror_mode": {
    "name": "ipython",
    "version": 3
   },
   "file_extension": ".py",
   "mimetype": "text/x-python",
   "name": "python",
   "nbconvert_exporter": "python",
   "pygments_lexer": "ipython3",
   "version": "3.7.6"
  }
 },
 "nbformat": 4,
 "nbformat_minor": 1
}
