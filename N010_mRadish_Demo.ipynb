{
 "cells": [
  {
   "cell_type": "markdown",
   "metadata": {
    "colab_type": "text",
    "id": "view-in-github"
   },
   "source": [
    "# N010_mRadish"
   ]
  },
  {
   "cell_type": "markdown",
   "metadata": {
    "colab_type": "text",
    "id": "u329GWDu8BZH"
   },
   "source": [
    "\n",
    "#  mRadish のつかい方\n",
    "\n",
    "プログラム名 mRadish.py\n",
    "\n",
    "N009 までを全部つなげたデモンストレーションです\n",
    "\n",
    "<div align=\"center\">\n",
    "<img src=\"https://user-images.githubusercontent.com/24559785/77537055-cd0afb00-6ee0-11ea-8f60-166a8fb5eba2.gif\" width=600>\n",
    "</div>\n"
   ]
  },
  {
   "cell_type": "markdown",
   "metadata": {
    "colab_type": "text",
    "id": "JyG74IzI72Dq"
   },
   "source": [
    "このプログラムは iGrabit 同様に、GUIの実現に kivy を用いました。kivyは Google Colaboratory とは互換性がありませんので、実行には、ローカルPC のpython 実行環境が必要になります。"
   ]
  },
  {
   "cell_type": "markdown",
   "metadata": {
    "colab_type": "text",
    "id": "UwGBxbqQ9yUK"
   },
   "source": [
    "## プログラムの起動手順\n",
    "\n",
    "Anaconda Terminal 上で、次のコマンドを実行\n",
    "\n",
    ">**cd <RadiShLabディレクトリ>**  \n",
    ">**python -m rdlib.mRadish**\n",
    "\n",
    "仮想環境RLを作っている場合は、コマンドを打ち込む前に、\n",
    "\n",
    "1. Anaconda Navigator を起動\n",
    "2. Environments \n",
    "3. RL 仮想環境から terminal を起動\n",
    "\n",
    "という手順が必要です。\n",
    "\n",
    "<img width=\"323\" alt=\"75362944-54992600-58b1-11ea-8f18-49bfb7838167\" src=\"https://user-images.githubusercontent.com/24559785/75363685-5fa08600-58b2-11ea-9a7d-b3fc8bce2600.png\" >\n",
    "\n",
    "最近の Windows版 Anaconda であれば、Startメニューに上の図のように、仮想環境のターミナルを起動するメニューができているはずなので、それを起動するのが簡単です。\n"
   ]
  },
  {
   "cell_type": "markdown",
   "metadata": {},
   "source": [
    "# 使用方法\n",
    "## File メニュー\n",
    "\n",
    "- 上端・下端を最初に指定し、あとは Enter を押して処理を１ステップずつ進めていくだけですので、特に説明は不要でしょう。\n",
    "\n",
    "\n",
    "1.  ファイルを開く  \n",
    "2.  上端・下端位置を調整する\n",
    "3. 左輪郭のベジエ曲線近似\n",
    "4. 右輪郭のベジエ曲線近似\n",
    "5. 中心線のベジエ曲線近似\n",
    "6. 形状補正\n",
    "\n",
    "という順に実行されます。\n",
    "\n",
    "- 上端・下端は、最初、 N005 で使った中心軸端点らしさの自動決定法で求めた位置がマークされます。もし不適当な位置だと思う場合は、キーボードのカーソルキーで移動し Enter キーで確定してください。\n",
    "\n",
    "\n",
    "- 入力画像はシルエット画像であることを想定しています。iGrabit を使うなどして用意してください。\n",
    "- RDSamples/NSilImages に実験用シルエット画像が入っていますので、まずはそれで試してみてください。\n"
   ]
  },
  {
   "cell_type": "code",
   "execution_count": null,
   "metadata": {},
   "outputs": [],
   "source": []
  }
 ],
 "metadata": {
  "colab": {
   "authorship_tag": "ABX9TyOGov2U9DU4OHnd1jvvWWQP",
   "include_colab_link": true,
   "name": "iGrabIt",
   "provenance": []
  },
  "kernelspec": {
   "display_name": "Python 3",
   "language": "python",
   "name": "python3"
  },
  "language_info": {
   "codemirror_mode": {
    "name": "ipython",
    "version": 3
   },
   "file_extension": ".py",
   "mimetype": "text/x-python",
   "name": "python",
   "nbconvert_exporter": "python",
   "pygments_lexer": "ipython3",
   "version": "3.7.6"
  }
 },
 "nbformat": 4,
 "nbformat_minor": 1
}
